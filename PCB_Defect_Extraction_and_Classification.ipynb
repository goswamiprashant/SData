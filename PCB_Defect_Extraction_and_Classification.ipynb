{
  "cells": [
    {
      "cell_type": "markdown",
      "metadata": {
        "id": "hCe9JGTtdTa4"
      },
      "source": [
        "# PCB Defect Image Extraction"
      ]
    },
    {
      "cell_type": "markdown",
      "metadata": {
        "id": "JgMH7DeRdhs2"
      },
      "source": [
        "### Install tetryonai"
      ]
    },
    {
      "cell_type": "code",
      "execution_count": null,
      "metadata": {
        "id": "8wlUFeR3dR2S"
      },
      "outputs": [],
      "source": [
        "!pip install git+https://github.com/sean-mcclure/tetryon_ai.git"
      ]
    },
    {
      "cell_type": "code",
      "execution_count": 2,
      "metadata": {
        "id": "AyTxf2OrdZg2"
      },
      "outputs": [],
      "source": [
        "from tetryonai.main import *"
      ]
    },
    {
      "cell_type": "markdown",
      "metadata": {
        "id": "h-Oa2L8QcLTW"
      },
      "source": [
        "###Make the following folders:\n",
        "\n",
        "*   difference_img\n",
        "*   extracted_defects\n",
        "*   hold_out "
      ]
    },
    {
      "cell_type": "code",
      "execution_count": 3,
      "metadata": {
        "id": "J0-RghhRhevh"
      },
      "outputs": [],
      "source": [
        "directory(**{\n",
        "    \"choice\" : \"make\",\n",
        "    \"directory_path\" : \"difference_img\"\n",
        "})\n",
        "\n",
        "directory(**{\n",
        "    \"choice\" : \"make\",\n",
        "    \"directory_path\" : \"extracted_defects\"\n",
        "})\n",
        "\n",
        "directory(**{\n",
        "    \"choice\" : \"make\",\n",
        "    \"directory_path\" : \"hold_out\"\n",
        "})"
      ]
    },
    {
      "cell_type": "markdown",
      "metadata": {
        "id": "6vA7XEG8cpBY"
      },
      "source": [
        "###Clone PCB Dataset"
      ]
    },
    {
      "cell_type": "code",
      "execution_count": 4,
      "metadata": {
        "id": "5qwXg4xQcoMT",
        "outputId": "52d3da82-1105-49ba-b348-551dfba1591f",
        "colab": {
          "base_uri": "https://localhost:8080/"
        }
      },
      "outputs": [
        {
          "output_type": "stream",
          "name": "stdout",
          "text": [
            "Cloning into 'DeepPCB'...\n",
            "remote: Enumerating objects: 4753, done.\u001b[K\n",
            "remote: Counting objects: 100% (14/14), done.\u001b[K\n",
            "remote: Compressing objects: 100% (2/2), done.\u001b[K\n",
            "remote: Total 4753 (delta 13), reused 12 (delta 12), pack-reused 4739\u001b[K\n",
            "Receiving objects: 100% (4753/4753), 85.81 MiB | 15.65 MiB/s, done.\n",
            "Resolving deltas: 100% (191/191), done.\n",
            "Checking out files: 100% (4548/4548), done.\n"
          ]
        }
      ],
      "source": [
        "!git clone https://github.com/tangsanli5201/DeepPCB.git"
      ]
    },
    {
      "cell_type": "markdown",
      "metadata": {
        "id": "W-wkvVHec-YN"
      },
      "source": [
        "### Read in PCB Defect Images (temp and test)"
      ]
    },
    {
      "cell_type": "code",
      "execution_count": 5,
      "metadata": {
        "id": "vs5JMS8BcvWi"
      },
      "outputs": [],
      "source": [
        "import glob\n",
        "\n",
        "image_path = 'DeepPCB/PCBData/'\n",
        "temp_pattern = '/*temp.jpg'\n",
        "test_pattern = '/*test.jpg'\n",
        "\n",
        "temps_and_tests = {}\n",
        "\n",
        "for folder in os.listdir(image_path):\n",
        "    full_path = image_path + folder + '/' + folder.replace('group', '')\n",
        "    temps = glob.glob(full_path + '/' + temp_pattern)\n",
        "    tests = glob.glob(full_path + '/' + test_pattern)\n",
        "    inner = {}\n",
        "    inner['temps'] = temps\n",
        "    inner['tests'] = tests\n",
        "    temps_and_tests[folder] = inner"
      ]
    },
    {
      "cell_type": "markdown",
      "metadata": {
        "id": "jvjb0wPUdX2C"
      },
      "source": [
        "### Create Hold Out Dataset with 20% test/temp images, and difference the rest"
      ]
    },
    {
      "cell_type": "code",
      "execution_count": 6,
      "metadata": {
        "id": "w-XAnnvodHoq"
      },
      "outputs": [],
      "source": [
        "split_percentage = round(len(temps_and_tests['group00041']['temps']) * 0.2)\n",
        "\n",
        "for index, whatever in enumerate(temps_and_tests['group00041']['temps']):\n",
        "    root_img_name = temps_and_tests['group00041']['temps'][index].replace('_temp.jpg', '')\n",
        "    temp_file_path = root_img_name  + '_temp.jpg'\n",
        "    test_file_path = root_img_name + '_test.jpg'\n",
        "    if(index < split_percentage):\n",
        "      copy_files(**{\n",
        "          \"file_paths\" : [temp_file_path],\n",
        "          \"target_directory\" : \"hold_out/\"\n",
        "      })\n",
        "      copy_files(**{\n",
        "          \"file_paths\" : [test_file_path],\n",
        "          \"target_directory\" : \"hold_out/\"\n",
        "      })\n",
        "    else:\n",
        "      subtract_images(**{\n",
        "          \"image_path_1\" : temp_file_path,\n",
        "          \"image_path_2\" : test_file_path,\n",
        "          \"write_path\" : \"difference_img/diff_image_\" + str(index) + \".png\"\n",
        "      })"
      ]
    },
    {
      "cell_type": "markdown",
      "metadata": {
        "id": "4J9K634pp5oJ"
      },
      "source": [
        "### Extract the defects from all differenced images"
      ]
    },
    {
      "cell_type": "code",
      "execution_count": 7,
      "metadata": {
        "id": "1F2S0QKcqKIz"
      },
      "outputs": [],
      "source": [
        "all_differenced_images = os.listdir('difference_img')"
      ]
    },
    {
      "cell_type": "code",
      "execution_count": 8,
      "metadata": {
        "id": "G2p9LwLweGYL",
        "colab": {
          "base_uri": "https://localhost:8080/"
        },
        "outputId": "d83a603a-9bf9-46a6-842b-99c3cc62afcb"
      },
      "outputs": [
        {
          "output_type": "stream",
          "name": "stdout",
          "text": [
            "skipping image difference_img/diff_image_79.png\n",
            "skipping image difference_img/diff_image_79.png\n",
            "skipping image difference_img/diff_image_70.png\n",
            "skipping image difference_img/diff_image_70.png\n",
            "skipping image difference_img/diff_image_148.png\n",
            "skipping image difference_img/diff_image_148.png\n",
            "skipping image difference_img/diff_image_148.png\n",
            "skipping image difference_img/diff_image_148.png\n",
            "skipping image difference_img/diff_image_148.png\n",
            "skipping image difference_img/diff_image_148.png\n",
            "skipping image difference_img/diff_image_148.png\n",
            "skipping image difference_img/diff_image_148.png\n",
            "skipping image difference_img/diff_image_148.png\n",
            "skipping image difference_img/diff_image_148.png\n",
            "skipping image difference_img/diff_image_135.png\n",
            "skipping image difference_img/diff_image_135.png\n",
            "skipping image difference_img/diff_image_135.png\n",
            "skipping image difference_img/diff_image_129.png\n",
            "skipping image difference_img/diff_image_129.png\n",
            "skipping image difference_img/diff_image_129.png\n",
            "skipping image difference_img/diff_image_129.png\n",
            "skipping image difference_img/diff_image_110.png\n",
            "skipping image difference_img/diff_image_110.png\n",
            "skipping image difference_img/diff_image_164.png\n",
            "skipping image difference_img/diff_image_164.png\n",
            "skipping image difference_img/diff_image_134.png\n",
            "skipping image difference_img/diff_image_134.png\n",
            "skipping image difference_img/diff_image_134.png\n",
            "skipping image difference_img/diff_image_137.png\n",
            "skipping image difference_img/diff_image_137.png\n",
            "skipping image difference_img/diff_image_189.png\n",
            "skipping image difference_img/diff_image_107.png\n",
            "skipping image difference_img/diff_image_162.png\n",
            "skipping image difference_img/diff_image_162.png\n",
            "skipping image difference_img/diff_image_162.png\n",
            "skipping image difference_img/diff_image_162.png\n",
            "skipping image difference_img/diff_image_154.png\n",
            "skipping image difference_img/diff_image_171.png\n",
            "skipping image difference_img/diff_image_171.png\n",
            "skipping image difference_img/diff_image_171.png\n",
            "skipping image difference_img/diff_image_171.png\n",
            "skipping image difference_img/diff_image_171.png\n",
            "skipping image difference_img/diff_image_171.png\n",
            "skipping image difference_img/diff_image_171.png\n",
            "skipping image difference_img/diff_image_171.png\n",
            "skipping image difference_img/diff_image_171.png\n",
            "skipping image difference_img/diff_image_171.png\n",
            "skipping image difference_img/diff_image_171.png\n",
            "skipping image difference_img/diff_image_171.png\n",
            "skipping image difference_img/diff_image_64.png\n",
            "skipping image difference_img/diff_image_64.png\n",
            "skipping image difference_img/diff_image_64.png\n",
            "skipping image difference_img/diff_image_64.png\n",
            "skipping image difference_img/diff_image_139.png\n",
            "skipping image difference_img/diff_image_150.png\n",
            "skipping image difference_img/diff_image_208.png\n",
            "skipping image difference_img/diff_image_47.png\n",
            "skipping image difference_img/diff_image_47.png\n",
            "skipping image difference_img/diff_image_47.png\n",
            "skipping image difference_img/diff_image_47.png\n",
            "skipping image difference_img/diff_image_47.png\n",
            "skipping image difference_img/diff_image_61.png\n",
            "skipping image difference_img/diff_image_61.png\n",
            "skipping image difference_img/diff_image_176.png\n",
            "skipping image difference_img/diff_image_200.png\n",
            "skipping image difference_img/diff_image_149.png\n",
            "skipping image difference_img/diff_image_207.png\n",
            "skipping image difference_img/diff_image_207.png\n",
            "skipping image difference_img/diff_image_207.png\n",
            "skipping image difference_img/diff_image_207.png\n",
            "skipping image difference_img/diff_image_207.png\n",
            "skipping image difference_img/diff_image_207.png\n",
            "skipping image difference_img/diff_image_207.png\n",
            "skipping image difference_img/diff_image_207.png\n",
            "skipping image difference_img/diff_image_207.png\n",
            "skipping image difference_img/diff_image_207.png\n",
            "skipping image difference_img/diff_image_86.png\n",
            "skipping image difference_img/diff_image_86.png\n",
            "skipping image difference_img/diff_image_86.png\n",
            "skipping image difference_img/diff_image_86.png\n",
            "skipping image difference_img/diff_image_91.png\n",
            "skipping image difference_img/diff_image_91.png\n",
            "skipping image difference_img/diff_image_91.png\n",
            "skipping image difference_img/diff_image_91.png\n",
            "skipping image difference_img/diff_image_91.png\n",
            "skipping image difference_img/diff_image_52.png\n",
            "skipping image difference_img/diff_image_52.png\n",
            "skipping image difference_img/diff_image_52.png\n",
            "skipping image difference_img/diff_image_52.png\n",
            "skipping image difference_img/diff_image_52.png\n",
            "skipping image difference_img/diff_image_83.png\n",
            "skipping image difference_img/diff_image_83.png\n",
            "skipping image difference_img/diff_image_83.png\n",
            "skipping image difference_img/diff_image_83.png\n",
            "skipping image difference_img/diff_image_196.png\n",
            "skipping image difference_img/diff_image_196.png\n",
            "skipping image difference_img/diff_image_196.png\n",
            "skipping image difference_img/diff_image_196.png\n",
            "skipping image difference_img/diff_image_196.png\n",
            "skipping image difference_img/diff_image_196.png\n",
            "skipping image difference_img/diff_image_196.png\n",
            "skipping image difference_img/diff_image_53.png\n",
            "skipping image difference_img/diff_image_147.png\n",
            "skipping image difference_img/diff_image_147.png\n",
            "skipping image difference_img/diff_image_147.png\n",
            "skipping image difference_img/diff_image_194.png\n",
            "skipping image difference_img/diff_image_194.png\n",
            "skipping image difference_img/diff_image_68.png\n",
            "skipping image difference_img/diff_image_68.png\n",
            "skipping image difference_img/diff_image_68.png\n",
            "skipping image difference_img/diff_image_173.png\n",
            "skipping image difference_img/diff_image_116.png\n",
            "skipping image difference_img/diff_image_116.png\n",
            "skipping image difference_img/diff_image_84.png\n",
            "skipping image difference_img/diff_image_84.png\n",
            "skipping image difference_img/diff_image_84.png\n",
            "skipping image difference_img/diff_image_84.png\n",
            "skipping image difference_img/diff_image_100.png\n",
            "skipping image difference_img/diff_image_100.png\n",
            "skipping image difference_img/diff_image_100.png\n",
            "skipping image difference_img/diff_image_100.png\n",
            "skipping image difference_img/diff_image_100.png\n",
            "skipping image difference_img/diff_image_85.png\n",
            "skipping image difference_img/diff_image_85.png\n",
            "skipping image difference_img/diff_image_204.png\n",
            "skipping image difference_img/diff_image_160.png\n",
            "skipping image difference_img/diff_image_160.png\n",
            "skipping image difference_img/diff_image_160.png\n",
            "skipping image difference_img/diff_image_160.png\n",
            "skipping image difference_img/diff_image_203.png\n",
            "skipping image difference_img/diff_image_125.png\n",
            "skipping image difference_img/diff_image_102.png\n",
            "skipping image difference_img/diff_image_102.png\n",
            "skipping image difference_img/diff_image_102.png\n",
            "skipping image difference_img/diff_image_102.png\n",
            "skipping image difference_img/diff_image_102.png\n",
            "skipping image difference_img/diff_image_102.png\n",
            "skipping image difference_img/diff_image_166.png\n",
            "skipping image difference_img/diff_image_179.png\n",
            "skipping image difference_img/diff_image_179.png\n"
          ]
        }
      ],
      "source": [
        "for index, filename in enumerate(all_differenced_images):\n",
        "    os.mkdir(\"extracted_defects/extracts_\" + str(index))\n",
        "    this_write_path = \"extracted_defects/extracts_\" + str(index) + \"/\"\n",
        "    extract_contours_from_image(**{\n",
        "        \"image_path\" : \"difference_img/\" + filename,\n",
        "        \"write_path\" : this_write_path,\n",
        "        \"hsv_lower\" : [0,150,50],\n",
        "        \"hsv_upper\" : [10,255,255]\n",
        "    })"
      ]
    },
    {
      "cell_type": "markdown",
      "metadata": {
        "id": "EUhd88k2x-PI"
      },
      "source": [
        "### Combine extracted images into single directory"
      ]
    },
    {
      "cell_type": "code",
      "execution_count": 9,
      "metadata": {
        "id": "-iVrsUXdyCTt"
      },
      "outputs": [],
      "source": [
        "directory(**{\n",
        "    \"choice\" : \"make\",\n",
        "    \"directory_path\" : \"all_extracts\"\n",
        "})"
      ]
    },
    {
      "cell_type": "code",
      "execution_count": 10,
      "metadata": {
        "id": "lWMihNwHyCWI"
      },
      "outputs": [],
      "source": [
        "cnt=0\n",
        "for dirpath, dirs, files in os.walk(\"extracted_defects\"):\n",
        "    for index, filename in enumerate(files):\n",
        "        if filename.endswith(\".png\"):\n",
        "            cnt += 1            \n",
        "            move_files(**{\n",
        "                \"file_paths\" : [dirpath + \"/\" + filename],\n",
        "                \"target_directory\" : \"all_extracts/extract_\" + str(cnt) + \".png\"\n",
        "            })"
      ]
    },
    {
      "cell_type": "markdown",
      "metadata": {
        "id": "Lv-W_WEs4Hcz"
      },
      "source": [
        "### Zip all extracted defect images \n",
        "#### Use for labelling in Defect Turker"
      ]
    },
    {
      "cell_type": "code",
      "execution_count": null,
      "metadata": {
        "id": "8Q7RBrXyzegd"
      },
      "outputs": [],
      "source": [
        "!zip -r /content/extracted_defects.zip /content/all_extracts/"
      ]
    },
    {
      "cell_type": "markdown",
      "metadata": {
        "id": "Q-6I4zBO4VRt"
      },
      "source": [
        "### Create JSON file for defect turker"
      ]
    },
    {
      "cell_type": "code",
      "execution_count": 12,
      "metadata": {
        "id": "gGWUihrXzej9"
      },
      "outputs": [],
      "source": [
        "import json\n",
        "\n",
        "file_names_and_sizes = {}\n",
        "file_names = os.listdir('all_extracts/')\n",
        "\n",
        "for index, file in enumerate(file_names):\n",
        "  file_names_and_sizes[file_names[index]] = os.path.getsize('all_extracts/' + file)"
      ]
    },
    {
      "cell_type": "markdown",
      "metadata": {
        "id": "LJMsE9R-4e-d"
      },
      "source": [
        "### Remove any image paths with sizes 0\n",
        "#### Already taken care of by using tetryonai's contour function, but keeping here for others to use if needed"
      ]
    },
    {
      "cell_type": "code",
      "execution_count": 13,
      "metadata": {
        "id": "d1nD6JJ0zeix"
      },
      "outputs": [],
      "source": [
        "file_names_and_sizes = {k: v for k, v in file_names_and_sizes.items() if v != 0}"
      ]
    },
    {
      "cell_type": "markdown",
      "metadata": {
        "id": "nvJV4pdb4m4s"
      },
      "source": [
        "### Save JSON to Disk for Uploading to Defect Turker"
      ]
    },
    {
      "cell_type": "code",
      "execution_count": 14,
      "metadata": {
        "id": "qjaEgmrQ4jMd"
      },
      "outputs": [],
      "source": [
        "with open('extracted_defects.json', 'w') as outfile:\n",
        "    json.dump(file_names_and_sizes, outfile)"
      ]
    },
    {
      "cell_type": "markdown",
      "metadata": {
        "id": "HOufoyhB6ap5"
      },
      "source": [
        "# PCB Defect Classification"
      ]
    },
    {
      "cell_type": "markdown",
      "metadata": {
        "id": "e8hs37wj7PcJ"
      },
      "source": [
        "##Install FASTAI"
      ]
    },
    {
      "cell_type": "code",
      "execution_count": null,
      "metadata": {
        "id": "FglMDgmf7P_0"
      },
      "outputs": [],
      "source": [
        "!pip install http://download.pytorch.org/whl/cpu/torch-1.0.0-cp36-cp36m-linux_x86_64.whl\n",
        "!pip install fastai"
      ]
    },
    {
      "cell_type": "code",
      "execution_count": 16,
      "metadata": {
        "id": "3fOWzm9p7TK2"
      },
      "outputs": [],
      "source": [
        "from fastai.vision import *"
      ]
    },
    {
      "cell_type": "markdown",
      "metadata": {
        "id": "z7cJF7L97ZF5"
      },
      "source": [
        "### Upload labelled data (CSV file)"
      ]
    },
    {
      "cell_type": "code",
      "execution_count": null,
      "metadata": {
        "id": "RpFQ582j7Vl9"
      },
      "outputs": [],
      "source": [
        "from google.colab import files\n",
        "files.upload()"
      ]
    },
    {
      "cell_type": "markdown",
      "metadata": {
        "id": "CGahGJXKYN5Z"
      },
      "source": [
        "### Convert labelled data CSV to dataframe"
      ]
    },
    {
      "cell_type": "code",
      "source": [
        "!git clone https://github.com/sean-mcclure/defect_classifier.git"
      ],
      "metadata": {
        "colab": {
          "base_uri": "https://localhost:8080/"
        },
        "id": "QHBS8D3zgYyB",
        "outputId": "27a6136d-a58d-4a39-fd2c-a02fddba58db"
      },
      "execution_count": 17,
      "outputs": [
        {
          "output_type": "stream",
          "name": "stdout",
          "text": [
            "Cloning into 'defect_classifier'...\n",
            "remote: Enumerating objects: 913, done.\u001b[K\n",
            "remote: Counting objects: 100% (107/107), done.\u001b[K\n",
            "remote: Compressing objects: 100% (79/79), done.\u001b[K\n",
            "remote: Total 913 (delta 40), reused 88 (delta 26), pack-reused 806\u001b[K\n",
            "Receiving objects: 100% (913/913), 247.23 MiB | 19.52 MiB/s, done.\n",
            "Resolving deltas: 100% (102/102), done.\n"
          ]
        }
      ]
    },
    {
      "cell_type": "code",
      "source": [
        "import shutil\n",
        "shutil.move(\"/content/defect_classifier/csv/image_labels.csv\",\"/content\")"
      ],
      "metadata": {
        "colab": {
          "base_uri": "https://localhost:8080/",
          "height": 35
        },
        "id": "-JwQKgHUgkC5",
        "outputId": "37b74428-c5c2-4078-daa5-98ef03d6ceaf"
      },
      "execution_count": 18,
      "outputs": [
        {
          "output_type": "execute_result",
          "data": {
            "text/plain": [
              "'/content/image_labels.csv'"
            ],
            "application/vnd.google.colaboratory.intrinsic+json": {
              "type": "string"
            }
          },
          "metadata": {},
          "execution_count": 18
        }
      ]
    },
    {
      "cell_type": "code",
      "source": [
        "labels_new = pd.read_csv(\"image_labels.csv\")"
      ],
      "metadata": {
        "id": "DnivUp8gytNL"
      },
      "execution_count": 19,
      "outputs": []
    },
    {
      "cell_type": "code",
      "source": [
        "l =os.listdir(\"/content/all_extracts\")"
      ],
      "metadata": {
        "id": "Xzc6JmVfzQy3"
      },
      "execution_count": 20,
      "outputs": []
    },
    {
      "cell_type": "code",
      "source": [
        "m=labels_new.name.values"
      ],
      "metadata": {
        "id": "4niE4Nwoy6wn"
      },
      "execution_count": 48,
      "outputs": []
    },
    {
      "cell_type": "code",
      "source": [
        "j=0\n",
        "lst=[]\n",
        "for k,i in enumerate(m):\n",
        "    if i in l:\n",
        "         j+=1\n",
        "         lst.append(k)\n",
        "         print(i)\n",
        "\n",
        "print(j)"
      ],
      "metadata": {
        "colab": {
          "base_uri": "https://localhost:8080/"
        },
        "id": "K-r2YlPFzgXn",
        "outputId": "baecd539-6342-4686-e284-c4ca8958c8f6"
      },
      "execution_count": 56,
      "outputs": [
        {
          "output_type": "stream",
          "name": "stdout",
          "text": [
            "extract_1158.png\n",
            "extract_866.png\n",
            "extract_688.png\n",
            "extract_15.png\n",
            "extract_622.png\n",
            "extract_410.png\n",
            "extract_338.png\n",
            "extract_1141.png\n",
            "extract_1205.png\n",
            "extract_590.png\n",
            "extract_575.png\n",
            "extract_703.png\n",
            "extract_478.png\n",
            "extract_1250.png\n",
            "extract_582.png\n",
            "extract_678.png\n",
            "extract_700.png\n",
            "extract_864.png\n",
            "extract_1160.png\n",
            "extract_30.png\n",
            "extract_50.png\n",
            "extract_996.png\n",
            "extract_1214.png\n",
            "extract_482.png\n",
            "extract_1324.png\n",
            "extract_1284.png\n",
            "extract_695.png\n",
            "extract_328.png\n",
            "extract_159.png\n",
            "extract_95.png\n",
            "extract_42.png\n",
            "extract_1206.png\n",
            "extract_815.png\n",
            "extract_504.png\n",
            "extract_593.png\n",
            "extract_402.png\n",
            "extract_214.png\n",
            "extract_505.png\n",
            "extract_340.png\n",
            "extract_539.png\n",
            "extract_1254.png\n",
            "extract_951.png\n",
            "extract_1026.png\n",
            "extract_206.png\n",
            "extract_40.png\n",
            "extract_727.png\n",
            "extract_1066.png\n",
            "extract_259.png\n",
            "extract_1090.png\n",
            "extract_780.png\n",
            "extract_1308.png\n",
            "extract_374.png\n",
            "extract_768.png\n",
            "extract_955.png\n",
            "extract_146.png\n",
            "extract_130.png\n",
            "extract_2.png\n",
            "extract_87.png\n",
            "extract_1019.png\n",
            "extract_9.png\n",
            "extract_469.png\n",
            "extract_843.png\n",
            "extract_929.png\n",
            "extract_664.png\n",
            "extract_925.png\n",
            "extract_1012.png\n",
            "extract_787.png\n",
            "extract_1058.png\n",
            "extract_1046.png\n",
            "extract_867.png\n",
            "extract_192.png\n",
            "extract_570.png\n",
            "extract_526.png\n",
            "extract_612.png\n",
            "extract_416.png\n",
            "extract_1064.png\n",
            "extract_279.png\n",
            "extract_514.png\n",
            "extract_483.png\n",
            "extract_655.png\n",
            "extract_172.png\n",
            "extract_239.png\n",
            "extract_4.png\n",
            "extract_1223.png\n",
            "extract_750.png\n",
            "extract_66.png\n",
            "extract_553.png\n",
            "extract_8.png\n",
            "extract_420.png\n",
            "extract_952.png\n",
            "extract_194.png\n",
            "extract_204.png\n",
            "extract_245.png\n",
            "extract_375.png\n",
            "extract_1055.png\n",
            "extract_936.png\n",
            "extract_1296.png\n",
            "extract_865.png\n",
            "extract_62.png\n",
            "extract_1210.png\n",
            "extract_706.png\n",
            "extract_602.png\n",
            "extract_124.png\n",
            "extract_491.png\n",
            "extract_202.png\n",
            "extract_1222.png\n",
            "extract_1273.png\n",
            "extract_216.png\n",
            "extract_99.png\n",
            "extract_190.png\n",
            "extract_449.png\n",
            "extract_1204.png\n",
            "extract_917.png\n",
            "extract_869.png\n",
            "extract_329.png\n",
            "extract_882.png\n",
            "extract_311.png\n",
            "extract_1108.png\n",
            "extract_841.png\n",
            "extract_994.png\n",
            "extract_164.png\n",
            "extract_184.png\n",
            "extract_287.png\n",
            "extract_596.png\n",
            "extract_115.png\n",
            "extract_500.png\n",
            "extract_624.png\n",
            "extract_330.png\n",
            "extract_1219.png\n",
            "extract_610.png\n",
            "extract_458.png\n",
            "extract_1094.png\n",
            "extract_1325.png\n",
            "extract_276.png\n",
            "extract_288.png\n",
            "extract_659.png\n",
            "extract_49.png\n",
            "extract_718.png\n",
            "extract_189.png\n",
            "extract_1146.png\n",
            "extract_1106.png\n",
            "extract_1209.png\n",
            "extract_51.png\n",
            "extract_904.png\n",
            "extract_1100.png\n",
            "extract_508.png\n",
            "extract_285.png\n",
            "extract_877.png\n",
            "extract_1045.png\n",
            "extract_573.png\n",
            "extract_828.png\n",
            "extract_141.png\n",
            "extract_888.png\n",
            "extract_1215.png\n",
            "extract_853.png\n",
            "extract_623.png\n",
            "extract_107.png\n",
            "extract_671.png\n",
            "extract_1101.png\n",
            "extract_393.png\n",
            "extract_186.png\n",
            "extract_566.png\n",
            "extract_319.png\n",
            "extract_850.png\n",
            "extract_368.png\n",
            "extract_868.png\n",
            "extract_1304.png\n",
            "extract_1052.png\n",
            "extract_931.png\n",
            "extract_261.png\n",
            "extract_568.png\n",
            "extract_262.png\n",
            "extract_614.png\n",
            "extract_266.png\n",
            "extract_1013.png\n",
            "extract_1126.png\n",
            "extract_840.png\n",
            "extract_369.png\n",
            "extract_825.png\n",
            "extract_961.png\n",
            "extract_64.png\n",
            "extract_178.png\n",
            "extract_928.png\n",
            "extract_390.png\n",
            "extract_712.png\n",
            "extract_298.png\n",
            "extract_1208.png\n",
            "extract_220.png\n",
            "extract_1135.png\n",
            "extract_972.png\n",
            "extract_271.png\n",
            "extract_1060.png\n",
            "extract_293.png\n",
            "extract_176.png\n",
            "extract_669.png\n",
            "extract_1095.png\n",
            "extract_767.png\n",
            "extract_270.png\n",
            "extract_605.png\n",
            "extract_111.png\n",
            "extract_494.png\n",
            "extract_1230.png\n",
            "extract_1295.png\n",
            "extract_509.png\n",
            "extract_1150.png\n",
            "extract_729.png\n",
            "extract_252.png\n",
            "extract_398.png\n",
            "extract_769.png\n",
            "extract_668.png\n",
            "extract_583.png\n",
            "extract_132.png\n",
            "extract_1237.png\n",
            "extract_1234.png\n",
            "extract_800.png\n",
            "extract_250.png\n",
            "extract_450.png\n",
            "extract_1022.png\n",
            "extract_248.png\n",
            "extract_100.png\n",
            "extract_776.png\n",
            "extract_1143.png\n",
            "extract_592.png\n",
            "extract_1001.png\n",
            "extract_243.png\n",
            "extract_764.png\n",
            "extract_988.png\n",
            "extract_883.png\n",
            "extract_154.png\n",
            "extract_1279.png\n",
            "extract_557.png\n",
            "extract_739.png\n",
            "extract_257.png\n",
            "extract_1278.png\n",
            "extract_942.png\n",
            "extract_713.png\n",
            "extract_1047.png\n",
            "extract_376.png\n",
            "extract_361.png\n",
            "extract_409.png\n",
            "extract_110.png\n",
            "extract_1035.png\n",
            "extract_175.png\n",
            "extract_139.png\n",
            "extract_987.png\n",
            "extract_394.png\n",
            "extract_794.png\n",
            "extract_691.png\n",
            "extract_198.png\n",
            "extract_922.png\n",
            "extract_166.png\n",
            "extract_600.png\n",
            "extract_1030.png\n",
            "extract_244.png\n",
            "extract_1323.png\n",
            "extract_1031.png\n",
            "extract_985.png\n",
            "extract_1105.png\n",
            "extract_1162.png\n",
            "extract_1267.png\n",
            "extract_905.png\n",
            "extract_641.png\n",
            "extract_792.png\n",
            "extract_1307.png\n",
            "extract_96.png\n",
            "extract_439.png\n",
            "extract_763.png\n",
            "extract_437.png\n",
            "extract_135.png\n",
            "extract_1241.png\n",
            "extract_939.png\n",
            "extract_335.png\n",
            "extract_532.png\n",
            "extract_183.png\n",
            "extract_255.png\n",
            "extract_932.png\n",
            "extract_46.png\n",
            "extract_205.png\n",
            "extract_221.png\n",
            "extract_405.png\n",
            "extract_69.png\n",
            "extract_434.png\n",
            "extract_675.png\n",
            "extract_920.png\n",
            "extract_1236.png\n",
            "extract_1082.png\n",
            "extract_1269.png\n",
            "extract_18.png\n",
            "extract_1281.png\n",
            "extract_930.png\n",
            "extract_721.png\n",
            "extract_564.png\n",
            "extract_1299.png\n",
            "extract_603.png\n",
            "extract_778.png\n",
            "extract_1179.png\n",
            "extract_737.png\n",
            "extract_1328.png\n",
            "extract_258.png\n",
            "extract_350.png\n",
            "extract_1071.png\n",
            "extract_784.png\n",
            "extract_113.png\n",
            "extract_1249.png\n",
            "extract_535.png\n",
            "extract_59.png\n",
            "extract_947.png\n",
            "extract_1272.png\n",
            "extract_197.png\n",
            "extract_1301.png\n",
            "extract_684.png\n",
            "extract_801.png\n",
            "extract_663.png\n",
            "extract_35.png\n",
            "extract_61.png\n",
            "extract_1248.png\n",
            "extract_488.png\n",
            "extract_463.png\n",
            "extract_673.png\n",
            "extract_1226.png\n",
            "extract_979.png\n",
            "extract_200.png\n",
            "extract_981.png\n",
            "extract_796.png\n",
            "extract_1221.png\n",
            "extract_1252.png\n",
            "extract_325.png\n",
            "extract_901.png\n",
            "extract_636.png\n",
            "extract_719.png\n",
            "extract_632.png\n",
            "extract_619.png\n",
            "extract_823.png\n",
            "extract_364.png\n",
            "extract_964.png\n",
            "extract_863.png\n",
            "extract_472.png\n",
            "extract_1041.png\n",
            "extract_7.png\n",
            "extract_426.png\n",
            "extract_210.png\n",
            "extract_915.png\n",
            "extract_1128.png\n",
            "extract_968.png\n",
            "extract_717.png\n",
            "extract_754.png\n",
            "extract_902.png\n",
            "extract_499.png\n",
            "extract_1156.png\n",
            "extract_1070.png\n",
            "extract_938.png\n",
            "extract_347.png\n",
            "extract_1334.png\n",
            "extract_401.png\n",
            "extract_3.png\n",
            "extract_536.png\n",
            "extract_824.png\n",
            "extract_807.png\n",
            "extract_1290.png\n",
            "extract_333.png\n",
            "extract_965.png\n",
            "extract_103.png\n",
            "extract_628.png\n",
            "extract_1020.png\n",
            "extract_1182.png\n",
            "extract_546.png\n",
            "extract_295.png\n",
            "extract_208.png\n",
            "extract_76.png\n",
            "extract_1277.png\n",
            "extract_454.png\n",
            "extract_525.png\n",
            "extract_253.png\n",
            "extract_446.png\n",
            "extract_584.png\n",
            "extract_1233.png\n",
            "extract_372.png\n",
            "extract_811.png\n",
            "extract_656.png\n",
            "extract_906.png\n",
            "extract_647.png\n",
            "extract_625.png\n",
            "extract_1063.png\n",
            "extract_74.png\n",
            "extract_289.png\n",
            "extract_149.png\n",
            "extract_1085.png\n",
            "extract_950.png\n",
            "extract_637.png\n",
            "extract_976.png\n",
            "extract_145.png\n",
            "extract_507.png\n",
            "extract_980.png\n",
            "extract_60.png\n",
            "extract_859.png\n",
            "extract_1144.png\n",
            "extract_168.png\n",
            "extract_106.png\n",
            "extract_1076.png\n",
            "extract_1033.png\n",
            "extract_334.png\n",
            "extract_973.png\n",
            "extract_433.png\n",
            "extract_907.png\n",
            "extract_802.png\n",
            "extract_273.png\n",
            "extract_611.png\n",
            "extract_456.png\n",
            "extract_389.png\n",
            "extract_1259.png\n",
            "extract_548.png\n",
            "extract_679.png\n",
            "extract_1.png\n",
            "extract_887.png\n",
            "extract_1169.png\n",
            "extract_515.png\n",
            "extract_736.png\n",
            "extract_580.png\n",
            "extract_156.png\n",
            "extract_698.png\n",
            "extract_1240.png\n",
            "extract_281.png\n",
            "extract_138.png\n",
            "extract_102.png\n",
            "extract_631.png\n",
            "extract_19.png\n",
            "extract_809.png\n",
            "extract_412.png\n",
            "extract_666.png\n",
            "extract_215.png\n",
            "extract_543.png\n",
            "extract_1265.png\n",
            "extract_775.png\n",
            "extract_1197.png\n",
            "extract_870.png\n",
            "extract_286.png\n",
            "extract_958.png\n",
            "extract_531.png\n",
            "extract_365.png\n",
            "extract_1274.png\n",
            "extract_1268.png\n",
            "extract_360.png\n",
            "extract_1092.png\n",
            "extract_1192.png\n",
            "extract_909.png\n",
            "extract_1181.png\n",
            "extract_195.png\n",
            "extract_1176.png\n",
            "extract_1242.png\n",
            "extract_995.png\n",
            "extract_58.png\n",
            "extract_1008.png\n",
            "extract_1196.png\n",
            "extract_783.png\n",
            "extract_884.png\n",
            "extract_872.png\n",
            "extract_1119.png\n",
            "extract_908.png\n",
            "extract_941.png\n",
            "extract_516.png\n",
            "extract_926.png\n",
            "extract_1103.png\n",
            "extract_541.png\n",
            "extract_302.png\n",
            "extract_1173.png\n",
            "extract_953.png\n",
            "extract_343.png\n",
            "extract_1078.png\n",
            "extract_1039.png\n",
            "extract_1061.png\n",
            "extract_31.png\n",
            "extract_749.png\n",
            "extract_620.png\n",
            "extract_1086.png\n",
            "extract_1059.png\n",
            "extract_486.png\n",
            "extract_34.png\n",
            "extract_72.png\n",
            "extract_874.png\n",
            "extract_1133.png\n",
            "extract_187.png\n",
            "extract_834.png\n",
            "extract_324.png\n",
            "extract_471.png\n",
            "extract_1011.png\n",
            "extract_615.png\n",
            "extract_218.png\n",
            "extract_598.png\n",
            "extract_305.png\n",
            "extract_419.png\n",
            "extract_173.png\n",
            "extract_1065.png\n",
            "extract_755.png\n",
            "extract_1040.png\n",
            "extract_1321.png\n",
            "extract_1310.png\n",
            "extract_599.png\n",
            "extract_229.png\n",
            "extract_1322.png\n",
            "extract_26.png\n",
            "extract_1235.png\n",
            "extract_545.png\n",
            "extract_559.png\n",
            "extract_759.png\n",
            "extract_320.png\n",
            "extract_1224.png\n",
            "extract_657.png\n",
            "extract_761.png\n",
            "extract_38.png\n",
            "extract_862.png\n",
            "extract_975.png\n",
            "extract_881.png\n",
            "extract_812.png\n",
            "extract_1136.png\n",
            "extract_943.png\n",
            "extract_344.png\n",
            "extract_211.png\n",
            "extract_226.png\n",
            "extract_572.png\n",
            "extract_1148.png\n",
            "extract_174.png\n",
            "extract_816.png\n",
            "extract_212.png\n",
            "extract_71.png\n",
            "extract_680.png\n",
            "extract_728.png\n",
            "extract_445.png\n",
            "extract_57.png\n",
            "extract_1316.png\n",
            "extract_400.png\n",
            "extract_1302.png\n",
            "extract_219.png\n",
            "extract_896.png\n",
            "extract_160.png\n",
            "extract_1068.png\n",
            "extract_222.png\n",
            "extract_352.png\n",
            "extract_1109.png\n",
            "extract_621.png\n",
            "extract_502.png\n",
            "extract_322.png\n",
            "extract_485.png\n",
            "extract_125.png\n",
            "extract_1177.png\n",
            "extract_889.png\n",
            "extract_752.png\n",
            "extract_461.png\n",
            "extract_1027.png\n",
            "extract_207.png\n",
            "extract_652.png\n",
            "extract_47.png\n",
            "extract_249.png\n",
            "extract_715.png\n",
            "extract_1253.png\n",
            "extract_157.png\n",
            "extract_1186.png\n",
            "extract_1275.png\n",
            "extract_5.png\n",
            "extract_722.png\n",
            "extract_814.png\n",
            "extract_123.png\n",
            "extract_766.png\n",
            "extract_847.png\n",
            "extract_956.png\n",
            "extract_233.png\n",
            "extract_597.png\n",
            "extract_658.png\n",
            "extract_963.png\n",
            "extract_644.png\n",
            "extract_707.png\n",
            "extract_351.png\n",
            "extract_555.png\n",
            "extract_524.png\n",
            "extract_468.png\n",
            "extract_880.png\n",
            "extract_1331.png\n",
            "extract_734.png\n",
            "extract_455.png\n",
            "extract_1079.png\n",
            "extract_1212.png\n",
            "extract_1200.png\n",
            "extract_493.png\n",
            "extract_512.png\n",
            "extract_1073.png\n",
            "extract_447.png\n",
            "extract_20.png\n",
            "extract_724.png\n",
            "extract_303.png\n",
            "extract_163.png\n",
            "extract_948.png\n",
            "extract_256.png\n",
            "extract_757.png\n",
            "extract_578.png\n",
            "extract_119.png\n",
            "extract_395.png\n",
            "extract_1190.png\n",
            "extract_781.png\n",
            "extract_12.png\n",
            "extract_944.png\n",
            "extract_885.png\n",
            "extract_117.png\n",
            "extract_1036.png\n",
            "extract_181.png\n",
            "extract_969.png\n",
            "extract_408.png\n",
            "extract_919.png\n",
            "extract_86.png\n",
            "extract_23.png\n",
            "extract_254.png\n",
            "extract_6.png\n",
            "extract_743.png\n",
            "extract_852.png\n",
            "extract_81.png\n",
            "extract_227.png\n",
            "extract_346.png\n",
            "extract_1016.png\n",
            "extract_133.png\n",
            "extract_80.png\n",
            "extract_758.png\n",
            "extract_97.png\n",
            "extract_627.png\n",
            "extract_242.png\n",
            "extract_1188.png\n",
            "extract_1121.png\n",
            "extract_649.png\n",
            "extract_213.png\n",
            "extract_1025.png\n",
            "extract_484.png\n",
            "extract_498.png\n",
            "extract_709.png\n",
            "extract_817.png\n",
            "extract_1220.png\n",
            "extract_24.png\n",
            "extract_789.png\n",
            "extract_1074.png\n",
            "extract_653.png\n",
            "extract_1111.png\n",
            "extract_552.png\n",
            "extract_990.png\n",
            "extract_892.png\n",
            "extract_741.png\n",
            "extract_436.png\n",
            "extract_1053.png\n",
            "extract_33.png\n",
            "extract_771.png\n",
            "extract_665.png\n",
            "extract_726.png\n",
            "extract_120.png\n",
            "extract_1168.png\n",
            "extract_935.png\n",
            "extract_37.png\n",
            "extract_1261.png\n",
            "extract_421.png\n",
            "extract_109.png\n",
            "extract_217.png\n",
            "extract_1175.png\n",
            "extract_78.png\n",
            "extract_1333.png\n",
            "extract_1329.png\n",
            "extract_1153.png\n",
            "extract_265.png\n",
            "extract_1229.png\n",
            "extract_533.png\n",
            "extract_747.png\n",
            "extract_1123.png\n",
            "extract_730.png\n",
            "extract_692.png\n",
            "extract_638.png\n",
            "extract_251.png\n",
            "extract_77.png\n",
            "extract_476.png\n",
            "extract_1154.png\n",
            "extract_464.png\n",
            "extract_528.png\n",
            "extract_540.png\n",
            "extract_232.png\n",
            "extract_1132.png\n",
            "extract_927.png\n",
            "extract_84.png\n",
            "extract_142.png\n",
            "extract_1099.png\n",
            "extract_1184.png\n",
            "extract_451.png\n",
            "extract_626.png\n",
            "extract_1185.png\n",
            "extract_22.png\n",
            "extract_886.png\n",
            "extract_940.png\n",
            "extract_1125.png\n",
            "extract_75.png\n",
            "extract_490.png\n",
            "extract_1062.png\n",
            "extract_992.png\n",
            "extract_1314.png\n",
            "extract_129.png\n",
            "extract_1034.png\n",
            "extract_1116.png\n",
            "extract_954.png\n",
            "extract_674.png\n",
            "extract_667.png\n",
            "extract_1081.png\n",
            "extract_1017.png\n",
            "extract_155.png\n",
            "extract_1189.png\n",
            "extract_735.png\n",
            "extract_105.png\n",
            "extract_662.png\n",
            "extract_381.png\n",
            "extract_1056.png\n",
            "extract_1067.png\n",
            "extract_423.png\n",
            "extract_1087.png\n",
            "extract_161.png\n",
            "extract_193.png\n",
            "extract_517.png\n",
            "extract_10.png\n",
            "extract_723.png\n",
            "extract_231.png\n",
            "extract_91.png\n",
            "extract_93.png\n",
            "extract_297.png\n",
            "extract_1231.png\n",
            "extract_448.png\n",
            "extract_496.png\n",
            "extract_1300.png\n",
            "extract_773.png\n",
            "extract_558.png\n",
            "extract_1084.png\n",
            "extract_837.png\n",
            "extract_177.png\n",
            "extract_236.png\n",
            "extract_714.png\n",
            "extract_822.png\n",
            "extract_1007.png\n",
            "extract_1194.png\n",
            "extract_762.png\n",
            "extract_897.png\n",
            "extract_1010.png\n",
            "extract_835.png\n",
            "extract_856.png\n",
            "extract_284.png\n",
            "extract_477.png\n",
            "extract_1211.png\n",
            "extract_586.png\n",
            "extract_1004.png\n",
            "extract_263.png\n",
            "extract_565.png\n",
            "extract_403.png\n",
            "extract_1332.png\n",
            "extract_654.png\n",
            "extract_701.png\n",
            "extract_782.png\n",
            "extract_414.png\n",
            "extract_112.png\n",
            "extract_150.png\n",
            "extract_770.png\n",
            "extract_432.png\n",
            "extract_225.png\n",
            "extract_165.png\n",
            "extract_358.png\n",
            "extract_974.png\n",
            "extract_180.png\n",
            "extract_686.png\n",
            "extract_169.png\n",
            "extract_1243.png\n",
            "extract_1306.png\n",
            "extract_648.png\n",
            "extract_830.png\n",
            "extract_1069.png\n",
            "extract_704.png\n",
            "extract_41.png\n",
            "extract_1174.png\n",
            "extract_604.png\n",
            "extract_1163.png\n",
            "774\n"
          ]
        }
      ]
    },
    {
      "cell_type": "code",
      "source": [
        "labels_new2=labels_new.iloc[lst]"
      ],
      "metadata": {
        "id": "CeJmCC_c0EOS"
      },
      "execution_count": 57,
      "outputs": []
    },
    {
      "cell_type": "code",
      "source": [
        "labels_new2.to_csv(\"/content/image_labels2.csv\")"
      ],
      "metadata": {
        "id": "XkyJyfGV0Re0"
      },
      "execution_count": 58,
      "outputs": []
    },
    {
      "cell_type": "code",
      "execution_count": 59,
      "metadata": {
        "id": "bWi2WGkpYRP5"
      },
      "outputs": [],
      "source": [
        "image_labels_frame = csv_to_dataframe(**{\n",
        "    \"path_to_csv\" : \"image_labels2.csv\"\n",
        "})"
      ]
    },
    {
      "cell_type": "markdown",
      "metadata": {
        "id": "AAVuBBVLYzwf"
      },
      "source": [
        "### Check Class Balance"
      ]
    },
    {
      "cell_type": "code",
      "execution_count": 60,
      "metadata": {
        "id": "9LypSgmHYbVn"
      },
      "outputs": [],
      "source": [
        "labelled_counts = get_feature_counts(**{\n",
        "    \"data_frame\" : image_labels_frame, \n",
        "    \"feature\" : \"label\"\n",
        "})"
      ]
    },
    {
      "cell_type": "code",
      "source": [
        "labelled_counts"
      ],
      "metadata": {
        "colab": {
          "base_uri": "https://localhost:8080/"
        },
        "id": "T6FRHaKC4yWp",
        "outputId": "0f070caa-2897-4c1a-8b6f-5c899e18b710"
      },
      "execution_count": 61,
      "outputs": [
        {
          "output_type": "execute_result",
          "data": {
            "text/plain": [
              "{'NOT': 459, 'short': 86, 'spur': 126, 'spurious copper': 103}"
            ]
          },
          "metadata": {},
          "execution_count": 61
        }
      ]
    },
    {
      "cell_type": "code",
      "execution_count": 62,
      "metadata": {
        "id": "83ap0Nc_ZRE9",
        "outputId": "aac480a0-2f9f-453b-d709-db4c92098fe7",
        "colab": {
          "base_uri": "https://localhost:8080/",
          "height": 363
        }
      },
      "outputs": [
        {
          "output_type": "display_data",
          "data": {
            "text/plain": [
              "<Figure size 1008x288 with 1 Axes>"
            ],
            "image/png": "[encoded data removed]"
          },
          "metadata": {
            "needs_background": "dark"
          }
        }
      ],
      "source": [
        "import matplotlib.pyplot as plt\n",
        "from pylab import rcParams\n",
        "rcParams['figure.figsize'] = 14, 4\n",
        "rcParams['text.color'] = \"white\"\n",
        "rcParams['axes.labelcolor'] = \"white\"\n",
        "rcParams['xtick.color'] = \"white\"\n",
        "rcParams['ytick.color'] = \"white\"\n",
        "\n",
        "index = np.arange(len(labelled_counts.keys()))\n",
        "plt.bar(index, list(labelled_counts.values()))\n",
        "plt.xlabel('Defect Type', fontsize=10)\n",
        "plt.ylabel('Count', fontsize=10)\n",
        "plt.xticks(index, labelled_counts.keys(), fontsize=5, rotation=30)\n",
        "plt.xticks(fontsize=16)\n",
        "plt.yticks(fontsize=16)\n",
        "plt.title('Defect Class Balance')\n",
        "plt.show()"
      ]
    },
    {
      "cell_type": "markdown",
      "metadata": {
        "id": "EQj7Xd8yJblP"
      },
      "source": [
        "### Create new directory for training CSVs"
      ]
    },
    {
      "cell_type": "code",
      "execution_count": null,
      "metadata": {
        "id": "l-4fsa-uJmxu"
      },
      "outputs": [],
      "source": [
        "directory(**{\n",
        "    \"choice\" : \"make\",\n",
        "    \"directory_path\" : \"training_csvs\"\n",
        "})"
      ]
    },
    {
      "cell_type": "markdown",
      "metadata": {
        "id": "SIRY-UlUTEab"
      },
      "source": [
        "### Create individual CSV files for each CLASS"
      ]
    },
    {
      "cell_type": "code",
      "source": [
        "image_labels_frame"
      ],
      "metadata": {
        "colab": {
          "base_uri": "https://localhost:8080/",
          "height": 423
        },
        "id": "bBBE1Us-5IsB",
        "outputId": "7699f993-215c-4cd9-bcb3-a08245ab0220"
      },
      "execution_count": 64,
      "outputs": [
        {
          "output_type": "execute_result",
          "data": {
            "text/plain": [
              "     Unnamed: 0              name            label\n",
              "0             2  extract_1158.png              NOT\n",
              "1             5   extract_866.png             spur\n",
              "2             6   extract_688.png             spur\n",
              "3             7    extract_15.png              NOT\n",
              "4             8   extract_622.png             spur\n",
              "..          ...               ...              ...\n",
              "769        1005   extract_704.png            short\n",
              "770        1006    extract_41.png              NOT\n",
              "771        1008  extract_1174.png  spurious copper\n",
              "772        1011   extract_604.png              NOT\n",
              "773        1012  extract_1163.png             spur\n",
              "\n",
              "[774 rows x 3 columns]"
            ],
            "text/html": [
              "\n",
              "  <div id=\"df-0a3a17f8-a0e4-418f-912c-10395a85d0e7\">\n",
              "    <div class=\"colab-df-container\">\n",
              "      <div>\n",
              "<style scoped>\n",
              "    .dataframe tbody tr th:only-of-type {\n",
              "        vertical-align: middle;\n",
              "    }\n",
              "\n",
              "    .dataframe tbody tr th {\n",
              "        vertical-align: top;\n",
              "    }\n",
              "\n",
              "    .dataframe thead th {\n",
              "        text-align: right;\n",
              "    }\n",
              "</style>\n",
              "<table border=\"1\" class=\"dataframe\">\n",
              "  <thead>\n",
              "    <tr style=\"text-align: right;\">\n",
              "      <th></th>\n",
              "      <th>Unnamed: 0</th>\n",
              "      <th>name</th>\n",
              "      <th>label</th>\n",
              "    </tr>\n",
              "  </thead>\n",
              "  <tbody>\n",
              "    <tr>\n",
              "      <th>0</th>\n",
              "      <td>2</td>\n",
              "      <td>extract_1158.png</td>\n",
              "      <td>NOT</td>\n",
              "    </tr>\n",
              "    <tr>\n",
              "      <th>1</th>\n",
              "      <td>5</td>\n",
              "      <td>extract_866.png</td>\n",
              "      <td>spur</td>\n",
              "    </tr>\n",
              "    <tr>\n",
              "      <th>2</th>\n",
              "      <td>6</td>\n",
              "      <td>extract_688.png</td>\n",
              "      <td>spur</td>\n",
              "    </tr>\n",
              "    <tr>\n",
              "      <th>3</th>\n",
              "      <td>7</td>\n",
              "      <td>extract_15.png</td>\n",
              "      <td>NOT</td>\n",
              "    </tr>\n",
              "    <tr>\n",
              "      <th>4</th>\n",
              "      <td>8</td>\n",
              "      <td>extract_622.png</td>\n",
              "      <td>spur</td>\n",
              "    </tr>\n",
              "    <tr>\n",
              "      <th>...</th>\n",
              "      <td>...</td>\n",
              "      <td>...</td>\n",
              "      <td>...</td>\n",
              "    </tr>\n",
              "    <tr>\n",
              "      <th>769</th>\n",
              "      <td>1005</td>\n",
              "      <td>extract_704.png</td>\n",
              "      <td>short</td>\n",
              "    </tr>\n",
              "    <tr>\n",
              "      <th>770</th>\n",
              "      <td>1006</td>\n",
              "      <td>extract_41.png</td>\n",
              "      <td>NOT</td>\n",
              "    </tr>\n",
              "    <tr>\n",
              "      <th>771</th>\n",
              "      <td>1008</td>\n",
              "      <td>extract_1174.png</td>\n",
              "      <td>spurious copper</td>\n",
              "    </tr>\n",
              "    <tr>\n",
              "      <th>772</th>\n",
              "      <td>1011</td>\n",
              "      <td>extract_604.png</td>\n",
              "      <td>NOT</td>\n",
              "    </tr>\n",
              "    <tr>\n",
              "      <th>773</th>\n",
              "      <td>1012</td>\n",
              "      <td>extract_1163.png</td>\n",
              "      <td>spur</td>\n",
              "    </tr>\n",
              "  </tbody>\n",
              "</table>\n",
              "<p>774 rows × 3 columns</p>\n",
              "</div>\n",
              "      <button class=\"colab-df-convert\" onclick=\"convertToInteractive('df-0a3a17f8-a0e4-418f-912c-10395a85d0e7')\"\n",
              "              title=\"Convert this dataframe to an interactive table.\"\n",
              "              style=\"display:none;\">\n",
              "        \n",
              "  <svg xmlns=\"http://www.w3.org/2000/svg\" height=\"24px\"viewBox=\"0 0 24 24\"\n",
              "       width=\"24px\">\n",
              "    <path d=\"M0 0h24v24H0V0z\" fill=\"none\"/>\n",
              "    <path d=\"M18.56 5.44l.94 2.06.94-2.06 2.06-.94-2.06-.94-.94-2.06-.94 2.06-2.06.94zm-11 1L8.5 8.5l.94-2.06 2.06-.94-2.06-.94L8.5 2.5l-.94 2.06-2.06.94zm10 10l.94 2.06.94-2.06 2.06-.94-2.06-.94-.94-2.06-.94 2.06-2.06.94z\"/><path d=\"M17.41 7.96l-1.37-1.37c-.4-.4-.92-.59-1.43-.59-.52 0-1.04.2-1.43.59L10.3 9.45l-7.72 7.72c-.78.78-.78 2.05 0 2.83L4 21.41c.39.39.9.59 1.41.59.51 0 1.02-.2 1.41-.59l7.78-7.78 2.81-2.81c.8-.78.8-2.07 0-2.86zM5.41 20L4 18.59l7.72-7.72 1.47 1.35L5.41 20z\"/>\n",
              "  </svg>\n",
              "      </button>\n",
              "      \n",
              "  <style>\n",
              "    .colab-df-container {\n",
              "      display:flex;\n",
              "      flex-wrap:wrap;\n",
              "      gap: 12px;\n",
              "    }\n",
              "\n",
              "    .colab-df-convert {\n",
              "      background-color: #E8F0FE;\n",
              "      border: none;\n",
              "      border-radius: 50%;\n",
              "      cursor: pointer;\n",
              "      display: none;\n",
              "      fill: #1967D2;\n",
              "      height: 32px;\n",
              "      padding: 0 0 0 0;\n",
              "      width: 32px;\n",
              "    }\n",
              "\n",
              "    .colab-df-convert:hover {\n",
              "      background-color: #E2EBFA;\n",
              "      box-shadow: 0px 1px 2px rgba(60, 64, 67, 0.3), 0px 1px 3px 1px rgba(60, 64, 67, 0.15);\n",
              "      fill: #174EA6;\n",
              "    }\n",
              "\n",
              "    [theme=dark] .colab-df-convert {\n",
              "      background-color: #3B4455;\n",
              "      fill: #D2E3FC;\n",
              "    }\n",
              "\n",
              "    [theme=dark] .colab-df-convert:hover {\n",
              "      background-color: #434B5C;\n",
              "      box-shadow: 0px 1px 3px 1px rgba(0, 0, 0, 0.15);\n",
              "      filter: drop-shadow(0px 1px 2px rgba(0, 0, 0, 0.3));\n",
              "      fill: #FFFFFF;\n",
              "    }\n",
              "  </style>\n",
              "\n",
              "      <script>\n",
              "        const buttonEl =\n",
              "          document.querySelector('#df-0a3a17f8-a0e4-418f-912c-10395a85d0e7 button.colab-df-convert');\n",
              "        buttonEl.style.display =\n",
              "          google.colab.kernel.accessAllowed ? 'block' : 'none';\n",
              "\n",
              "        async function convertToInteractive(key) {\n",
              "          const element = document.querySelector('#df-0a3a17f8-a0e4-418f-912c-10395a85d0e7');\n",
              "          const dataTable =\n",
              "            await google.colab.kernel.invokeFunction('convertToInteractive',\n",
              "                                                     [key], {});\n",
              "          if (!dataTable) return;\n",
              "\n",
              "          const docLinkHtml = 'Like what you see? Visit the ' +\n",
              "            '<a target=\"_blank\" href=https://colab.research.google.com/notebooks/data_table.ipynb>data table notebook</a>'\n",
              "            + ' to learn more about interactive tables.';\n",
              "          element.innerHTML = '';\n",
              "          dataTable['output_type'] = 'display_data';\n",
              "          await google.colab.output.renderOutput(dataTable, element);\n",
              "          const docLink = document.createElement('div');\n",
              "          docLink.innerHTML = docLinkHtml;\n",
              "          element.appendChild(docLink);\n",
              "        }\n",
              "      </script>\n",
              "    </div>\n",
              "  </div>\n",
              "  "
            ]
          },
          "metadata": {},
          "execution_count": 64
        }
      ]
    },
    {
      "cell_type": "code",
      "source": [
        "'extract_1580.png' in lst"
      ],
      "metadata": {
        "colab": {
          "base_uri": "https://localhost:8080/"
        },
        "id": "V5fduUyf5pQw",
        "outputId": "25f9de9a-8921-4f35-fc7b-40c06c63ca74"
      },
      "execution_count": 65,
      "outputs": [
        {
          "output_type": "execute_result",
          "data": {
            "text/plain": [
              "False"
            ]
          },
          "metadata": {},
          "execution_count": 65
        }
      ]
    },
    {
      "cell_type": "code",
      "source": [
        "image_labels_frame.iterrows()"
      ],
      "metadata": {
        "colab": {
          "base_uri": "https://localhost:8080/",
          "height": 423
        },
        "id": "VW2cv1j87Q18",
        "outputId": "2f095856-802a-48a0-e311-9f43233ee279"
      },
      "execution_count": 71,
      "outputs": [
        {
          "output_type": "execute_result",
          "data": {
            "text/plain": [
              "     Unnamed: 0              name            label\n",
              "0             2  extract_1158.png              NOT\n",
              "1             5   extract_866.png             spur\n",
              "2             6   extract_688.png             spur\n",
              "3             7    extract_15.png              NOT\n",
              "4             8   extract_622.png             spur\n",
              "..          ...               ...              ...\n",
              "769        1005   extract_704.png            short\n",
              "770        1006    extract_41.png              NOT\n",
              "771        1008  extract_1174.png  spurious copper\n",
              "772        1011   extract_604.png              NOT\n",
              "773        1012  extract_1163.png             spur\n",
              "\n",
              "[774 rows x 3 columns]"
            ],
            "text/html": [
              "\n",
              "  <div id=\"df-91b81596-69e2-4838-999e-acfb8e75f166\">\n",
              "    <div class=\"colab-df-container\">\n",
              "      <div>\n",
              "<style scoped>\n",
              "    .dataframe tbody tr th:only-of-type {\n",
              "        vertical-align: middle;\n",
              "    }\n",
              "\n",
              "    .dataframe tbody tr th {\n",
              "        vertical-align: top;\n",
              "    }\n",
              "\n",
              "    .dataframe thead th {\n",
              "        text-align: right;\n",
              "    }\n",
              "</style>\n",
              "<table border=\"1\" class=\"dataframe\">\n",
              "  <thead>\n",
              "    <tr style=\"text-align: right;\">\n",
              "      <th></th>\n",
              "      <th>Unnamed: 0</th>\n",
              "      <th>name</th>\n",
              "      <th>label</th>\n",
              "    </tr>\n",
              "  </thead>\n",
              "  <tbody>\n",
              "    <tr>\n",
              "      <th>0</th>\n",
              "      <td>2</td>\n",
              "      <td>extract_1158.png</td>\n",
              "      <td>NOT</td>\n",
              "    </tr>\n",
              "    <tr>\n",
              "      <th>1</th>\n",
              "      <td>5</td>\n",
              "      <td>extract_866.png</td>\n",
              "      <td>spur</td>\n",
              "    </tr>\n",
              "    <tr>\n",
              "      <th>2</th>\n",
              "      <td>6</td>\n",
              "      <td>extract_688.png</td>\n",
              "      <td>spur</td>\n",
              "    </tr>\n",
              "    <tr>\n",
              "      <th>3</th>\n",
              "      <td>7</td>\n",
              "      <td>extract_15.png</td>\n",
              "      <td>NOT</td>\n",
              "    </tr>\n",
              "    <tr>\n",
              "      <th>4</th>\n",
              "      <td>8</td>\n",
              "      <td>extract_622.png</td>\n",
              "      <td>spur</td>\n",
              "    </tr>\n",
              "    <tr>\n",
              "      <th>...</th>\n",
              "      <td>...</td>\n",
              "      <td>...</td>\n",
              "      <td>...</td>\n",
              "    </tr>\n",
              "    <tr>\n",
              "      <th>769</th>\n",
              "      <td>1005</td>\n",
              "      <td>extract_704.png</td>\n",
              "      <td>short</td>\n",
              "    </tr>\n",
              "    <tr>\n",
              "      <th>770</th>\n",
              "      <td>1006</td>\n",
              "      <td>extract_41.png</td>\n",
              "      <td>NOT</td>\n",
              "    </tr>\n",
              "    <tr>\n",
              "      <th>771</th>\n",
              "      <td>1008</td>\n",
              "      <td>extract_1174.png</td>\n",
              "      <td>spurious copper</td>\n",
              "    </tr>\n",
              "    <tr>\n",
              "      <th>772</th>\n",
              "      <td>1011</td>\n",
              "      <td>extract_604.png</td>\n",
              "      <td>NOT</td>\n",
              "    </tr>\n",
              "    <tr>\n",
              "      <th>773</th>\n",
              "      <td>1012</td>\n",
              "      <td>extract_1163.png</td>\n",
              "      <td>spur</td>\n",
              "    </tr>\n",
              "  </tbody>\n",
              "</table>\n",
              "<p>774 rows × 3 columns</p>\n",
              "</div>\n",
              "      <button class=\"colab-df-convert\" onclick=\"convertToInteractive('df-91b81596-69e2-4838-999e-acfb8e75f166')\"\n",
              "              title=\"Convert this dataframe to an interactive table.\"\n",
              "              style=\"display:none;\">\n",
              "        \n",
              "  <svg xmlns=\"http://www.w3.org/2000/svg\" height=\"24px\"viewBox=\"0 0 24 24\"\n",
              "       width=\"24px\">\n",
              "    <path d=\"M0 0h24v24H0V0z\" fill=\"none\"/>\n",
              "    <path d=\"M18.56 5.44l.94 2.06.94-2.06 2.06-.94-2.06-.94-.94-2.06-.94 2.06-2.06.94zm-11 1L8.5 8.5l.94-2.06 2.06-.94-2.06-.94L8.5 2.5l-.94 2.06-2.06.94zm10 10l.94 2.06.94-2.06 2.06-.94-2.06-.94-.94-2.06-.94 2.06-2.06.94z\"/><path d=\"M17.41 7.96l-1.37-1.37c-.4-.4-.92-.59-1.43-.59-.52 0-1.04.2-1.43.59L10.3 9.45l-7.72 7.72c-.78.78-.78 2.05 0 2.83L4 21.41c.39.39.9.59 1.41.59.51 0 1.02-.2 1.41-.59l7.78-7.78 2.81-2.81c.8-.78.8-2.07 0-2.86zM5.41 20L4 18.59l7.72-7.72 1.47 1.35L5.41 20z\"/>\n",
              "  </svg>\n",
              "      </button>\n",
              "      \n",
              "  <style>\n",
              "    .colab-df-container {\n",
              "      display:flex;\n",
              "      flex-wrap:wrap;\n",
              "      gap: 12px;\n",
              "    }\n",
              "\n",
              "    .colab-df-convert {\n",
              "      background-color: #E8F0FE;\n",
              "      border: none;\n",
              "      border-radius: 50%;\n",
              "      cursor: pointer;\n",
              "      display: none;\n",
              "      fill: #1967D2;\n",
              "      height: 32px;\n",
              "      padding: 0 0 0 0;\n",
              "      width: 32px;\n",
              "    }\n",
              "\n",
              "    .colab-df-convert:hover {\n",
              "      background-color: #E2EBFA;\n",
              "      box-shadow: 0px 1px 2px rgba(60, 64, 67, 0.3), 0px 1px 3px 1px rgba(60, 64, 67, 0.15);\n",
              "      fill: #174EA6;\n",
              "    }\n",
              "\n",
              "    [theme=dark] .colab-df-convert {\n",
              "      background-color: #3B4455;\n",
              "      fill: #D2E3FC;\n",
              "    }\n",
              "\n",
              "    [theme=dark] .colab-df-convert:hover {\n",
              "      background-color: #434B5C;\n",
              "      box-shadow: 0px 1px 3px 1px rgba(0, 0, 0, 0.15);\n",
              "      filter: drop-shadow(0px 1px 2px rgba(0, 0, 0, 0.3));\n",
              "      fill: #FFFFFF;\n",
              "    }\n",
              "  </style>\n",
              "\n",
              "      <script>\n",
              "        const buttonEl =\n",
              "          document.querySelector('#df-91b81596-69e2-4838-999e-acfb8e75f166 button.colab-df-convert');\n",
              "        buttonEl.style.display =\n",
              "          google.colab.kernel.accessAllowed ? 'block' : 'none';\n",
              "\n",
              "        async function convertToInteractive(key) {\n",
              "          const element = document.querySelector('#df-91b81596-69e2-4838-999e-acfb8e75f166');\n",
              "          const dataTable =\n",
              "            await google.colab.kernel.invokeFunction('convertToInteractive',\n",
              "                                                     [key], {});\n",
              "          if (!dataTable) return;\n",
              "\n",
              "          const docLinkHtml = 'Like what you see? Visit the ' +\n",
              "            '<a target=\"_blank\" href=https://colab.research.google.com/notebooks/data_table.ipynb>data table notebook</a>'\n",
              "            + ' to learn more about interactive tables.';\n",
              "          element.innerHTML = '';\n",
              "          dataTable['output_type'] = 'display_data';\n",
              "          await google.colab.output.renderOutput(dataTable, element);\n",
              "          const docLink = document.createElement('div');\n",
              "          docLink.innerHTML = docLinkHtml;\n",
              "          element.appendChild(docLink);\n",
              "        }\n",
              "      </script>\n",
              "    </div>\n",
              "  </div>\n",
              "  "
            ]
          },
          "metadata": {},
          "execution_count": 71
        }
      ]
    },
    {
      "cell_type": "code",
      "execution_count": 72,
      "metadata": {
        "id": "Ei7bXwa4TQhI"
      },
      "outputs": [],
      "source": [
        "spur = []\n",
        "short = []\n",
        "spurious = []\n",
        "not_defect = []\n",
        "for index, row in image_labels_frame.iterrows():\n",
        "  if(row[2] == 'spur'):\n",
        "    spur.append(row[1])\n",
        "  if(row[2] == 'short'):\n",
        "    short.append(row[1])\n",
        "  if(row[2] == 'spurious copper'):\n",
        "    spurious.append(row[1])\n",
        "  if(row[2] == 'NOT'):\n",
        "    not_defect.append(row[1])"
      ]
    },
    {
      "cell_type": "code",
      "execution_count": 73,
      "metadata": {
        "id": "D6Rk1QBLUWuM"
      },
      "outputs": [],
      "source": [
        "df_spur = pd.DataFrame(spur)\n",
        "df_spur.to_csv(\"spur.csv\", sep=',',index=False)\n",
        "\n",
        "df_short = pd.DataFrame(short)\n",
        "df_short.to_csv(\"short.csv\", sep=',',index=False)\n",
        "\n",
        "df_spurious = pd.DataFrame(spurious)\n",
        "df_spurious.to_csv(\"spurious.csv\", sep=',',index=False)\n",
        "\n",
        "df_not_defect = pd.DataFrame(not_defect)\n",
        "df_not_defect.to_csv(\"not_defect.csv\", sep=',',index=False)"
      ]
    },
    {
      "cell_type": "markdown",
      "metadata": {
        "id": "bBtnkplGUz-N"
      },
      "source": [
        "### Create Directories for CSV files (needed for FastAI)"
      ]
    },
    {
      "cell_type": "code",
      "source": [
        "df_spur"
      ],
      "metadata": {
        "id": "XD8Ycg767KT0"
      },
      "execution_count": null,
      "outputs": []
    },
    {
      "cell_type": "code",
      "source": [
        "df_spur_new=[]\n",
        "df_spur.values[0]"
      ],
      "metadata": {
        "colab": {
          "base_uri": "https://localhost:8080/"
        },
        "id": "hbwT8PKPlmuy",
        "outputId": "f1bf7964-cca4-4f79-a6c9-50cd0b4fd6b1"
      },
      "execution_count": 75,
      "outputs": [
        {
          "output_type": "execute_result",
          "data": {
            "text/plain": [
              "array(['extract_866.png'], dtype=object)"
            ]
          },
          "metadata": {},
          "execution_count": 75
        }
      ]
    },
    {
      "cell_type": "code",
      "execution_count": 76,
      "metadata": {
        "id": "WH2lSp12Ubg_"
      },
      "outputs": [],
      "source": [
        "for folder in ['short', 'spur', 'spurious', 'not_defect']:\n",
        "    directory(**{\n",
        "        \"choice\" : \"make\",\n",
        "        \"directory_path\" : \"training_csvs/\" + folder\n",
        "    })"
      ]
    },
    {
      "cell_type": "markdown",
      "metadata": {
        "id": "woC6WRnMXEDB"
      },
      "source": [
        "### Move CSV files to all_extracts directory"
      ]
    },
    {
      "cell_type": "code",
      "execution_count": 77,
      "metadata": {
        "id": "sbFTVFFzVD6a"
      },
      "outputs": [],
      "source": [
        "move_files(**{\n",
        "    \"file_paths\" : [\"short.csv\", \"spur.csv\", \"spurious.csv\", \"not_defect.csv\"],\n",
        "    \"target_directory\" : \"training_csvs/\"\n",
        "})"
      ]
    },
    {
      "cell_type": "markdown",
      "metadata": {
        "id": "-T4g8QoSDq6B"
      },
      "source": [
        "### Remove extracted_defects.zip and upload the extracted_defects.zip used for labelling with the Defect Turker (while these may often be the same file, if you restarted this pipeline this will not be the case. Uploading is the safest)."
      ]
    },
    {
      "cell_type": "code",
      "execution_count": 32,
      "metadata": {
        "id": "0D_aKF0zEELd"
      },
      "outputs": [],
      "source": [
        "!rm extracted_defects.zip"
      ]
    },
    {
      "cell_type": "code",
      "execution_count": null,
      "metadata": {
        "id": "n0b2rBxuEN5R"
      },
      "outputs": [],
      "source": [
        "# upload extracted_defects.zip used for Defect Turker\n",
        "files.upload()"
      ]
    },
    {
      "cell_type": "markdown",
      "metadata": {
        "id": "RNqwsRdc-SG3"
      },
      "source": [
        "### Move extracted_defects.zip into the training_csvs folder:"
      ]
    },
    {
      "cell_type": "code",
      "execution_count": 78,
      "metadata": {
        "id": "qSVsjqvlITjm"
      },
      "outputs": [],
      "source": [
        "move_files(**{\n",
        "    \"file_paths\" : [\"extracted_defects.zip\"],\n",
        "    \"target_directory\" : \"training_csvs\"\n",
        "})"
      ]
    },
    {
      "cell_type": "markdown",
      "metadata": {
        "id": "f7h9Js4y-kNw"
      },
      "source": [
        "### Extract all images from extracted_defects.zip into the training_csvs folder:"
      ]
    },
    {
      "cell_type": "code",
      "execution_count": 79,
      "metadata": {
        "id": "J90_w7YkKmrV"
      },
      "outputs": [],
      "source": [
        "import zipfile\n",
        "with zipfile.ZipFile(\"training_csvs/extracted_defects.zip\", 'r') as zip_ref:\n",
        "    zip_ref.extractall(\"training_csvs/\")"
      ]
    },
    {
      "cell_type": "markdown",
      "metadata": {
        "id": "mJrFSnVG-u0v"
      },
      "source": [
        "### Move all extracted defect images into their proper training folder, using the image_labels.csv data:"
      ]
    },
    {
      "cell_type": "code",
      "source": [
        "l=os.listdir(\"/content/all_extracts\")\n",
        "\"extract_1580.png\" in l"
      ],
      "metadata": {
        "colab": {
          "base_uri": "https://localhost:8080/"
        },
        "id": "wcuEnJoAjCE2",
        "outputId": "255ba0fb-72bc-491e-d6c2-4bed1da41aba"
      },
      "execution_count": 37,
      "outputs": [
        {
          "output_type": "execute_result",
          "data": {
            "text/plain": [
              "False"
            ]
          },
          "metadata": {},
          "execution_count": 37
        }
      ]
    },
    {
      "cell_type": "code",
      "source": [
        "os.listdir(\"/content/training_csvs/not_defect\")"
      ],
      "metadata": {
        "colab": {
          "base_uri": "https://localhost:8080/"
        },
        "id": "M4WV3T5a3smx",
        "outputId": "108b47f6-4cc6-496f-bd38-13f3b428db43"
      },
      "execution_count": 62,
      "outputs": [
        {
          "output_type": "execute_result",
          "data": {
            "text/plain": [
              "[]"
            ]
          },
          "metadata": {},
          "execution_count": 62
        }
      ]
    },
    {
      "cell_type": "code",
      "source": [
        "path = \"training_csvs/\"\n",
        "path_to_extracts = \"training_csvs/content/all_extracts/\"\n",
        "\n",
        "for index, row in df_spur.iterrows():    \n",
        "      from_path = path_to_extracts + row[0]\n",
        "      to_path = path + \"spur/\" + row[0]     \n",
        "      move_files(**{\n",
        "          \"file_paths\" : [from_path],\n",
        "          \"target_directory\" : to_path\n",
        "      })\n",
        "    \n",
        "for index, row in df_short.iterrows():    \n",
        "    from_path = path_to_extracts + row[0]\n",
        "    to_path = path + \"short/\" + row[0]     \n",
        "    move_files(**{\n",
        "        \"file_paths\" : [from_path],\n",
        "        \"target_directory\" : to_path\n",
        "    })\n",
        "\n",
        "for index, row in df_spurious.iterrows():    \n",
        "    from_path = path_to_extracts + row[0]\n",
        "    to_path = path + \"spurious/\" + row[0]\n",
        "    move_files(**{\n",
        "        \"file_paths\" : [from_path],\n",
        "        \"target_directory\" : to_path\n",
        "    })\n",
        "\n",
        "for index, row in df_not_defect.iterrows():    \n",
        "    from_path = path_to_extracts + row[0]\n",
        "    to_path = path + \"/not_defect/\" + row[0]     \n",
        "    move_files(**{\n",
        "        \"file_paths\" : [from_path],\n",
        "        \"target_directory\" : to_path\n",
        "    })"
      ],
      "metadata": {
        "id": "-5MbQ9mX3DCN"
      },
      "execution_count": 80,
      "outputs": []
    },
    {
      "cell_type": "code",
      "execution_count": 61,
      "metadata": {
        "id": "0If6PjDXWSeB",
        "colab": {
          "base_uri": "https://localhost:8080/",
          "height": 450
        },
        "outputId": "f596e1db-9e01-4c0b-b911-8b1126255ba1"
      },
      "outputs": [
        {
          "output_type": "error",
          "ename": "FileNotFoundError",
          "evalue": "ignored",
          "traceback": [
            "\u001b[0;31m---------------------------------------------------------------------------\u001b[0m",
            "\u001b[0;31mFileNotFoundError\u001b[0m                         Traceback (most recent call last)",
            "\u001b[0;32m/usr/lib/python3.7/shutil.py\u001b[0m in \u001b[0;36mmove\u001b[0;34m(src, dst, copy_function)\u001b[0m\n\u001b[1;32m    565\u001b[0m     \u001b[0;32mtry\u001b[0m\u001b[0;34m:\u001b[0m\u001b[0;34m\u001b[0m\u001b[0;34m\u001b[0m\u001b[0m\n\u001b[0;32m--> 566\u001b[0;31m         \u001b[0mos\u001b[0m\u001b[0;34m.\u001b[0m\u001b[0mrename\u001b[0m\u001b[0;34m(\u001b[0m\u001b[0msrc\u001b[0m\u001b[0;34m,\u001b[0m \u001b[0mreal_dst\u001b[0m\u001b[0;34m)\u001b[0m\u001b[0;34m\u001b[0m\u001b[0;34m\u001b[0m\u001b[0m\n\u001b[0m\u001b[1;32m    567\u001b[0m     \u001b[0;32mexcept\u001b[0m \u001b[0mOSError\u001b[0m\u001b[0;34m:\u001b[0m\u001b[0;34m\u001b[0m\u001b[0;34m\u001b[0m\u001b[0m\n",
            "\u001b[0;31mFileNotFoundError\u001b[0m: [Errno 2] No such file or directory: 'training_csvs/content/all_extracts/extract_1580.png' -> 'training_csvs/spur/extract_1580.png'",
            "\nDuring handling of the above exception, another exception occurred:\n",
            "\u001b[0;31mFileNotFoundError\u001b[0m                         Traceback (most recent call last)",
            "\u001b[0;32m<ipython-input-61-11ef1815140b>\u001b[0m in \u001b[0;36m<module>\u001b[0;34m()\u001b[0m\n\u001b[1;32m      7\u001b[0m       move_files(**{\n\u001b[1;32m      8\u001b[0m           \u001b[0;34m\"file_paths\"\u001b[0m \u001b[0;34m:\u001b[0m \u001b[0;34m[\u001b[0m\u001b[0mfrom_path\u001b[0m\u001b[0;34m]\u001b[0m\u001b[0;34m,\u001b[0m\u001b[0;34m\u001b[0m\u001b[0;34m\u001b[0m\u001b[0m\n\u001b[0;32m----> 9\u001b[0;31m           \u001b[0;34m\"target_directory\"\u001b[0m \u001b[0;34m:\u001b[0m \u001b[0mto_path\u001b[0m\u001b[0;34m\u001b[0m\u001b[0;34m\u001b[0m\u001b[0m\n\u001b[0m\u001b[1;32m     10\u001b[0m       })\n\u001b[1;32m     11\u001b[0m \u001b[0;34m\u001b[0m\u001b[0m\n",
            "\u001b[0;32m/usr/local/lib/python3.7/dist-packages/tetryonai/main.py\u001b[0m in \u001b[0;36mmove_files\u001b[0;34m(file_paths, target_directory)\u001b[0m\n\u001b[1;32m    175\u001b[0m \u001b[0;32mdef\u001b[0m \u001b[0mmove_files\u001b[0m\u001b[0;34m(\u001b[0m\u001b[0mfile_paths\u001b[0m\u001b[0;34m,\u001b[0m \u001b[0mtarget_directory\u001b[0m\u001b[0;34m)\u001b[0m\u001b[0;34m:\u001b[0m\u001b[0;34m\u001b[0m\u001b[0;34m\u001b[0m\u001b[0m\n\u001b[1;32m    176\u001b[0m     \u001b[0;32mfor\u001b[0m \u001b[0mfile\u001b[0m \u001b[0;32min\u001b[0m \u001b[0mfile_paths\u001b[0m\u001b[0;34m:\u001b[0m\u001b[0;34m\u001b[0m\u001b[0;34m\u001b[0m\u001b[0m\n\u001b[0;32m--> 177\u001b[0;31m         \u001b[0mshutil\u001b[0m\u001b[0;34m.\u001b[0m\u001b[0mmove\u001b[0m\u001b[0;34m(\u001b[0m\u001b[0mfile\u001b[0m\u001b[0;34m,\u001b[0m \u001b[0mtarget_directory\u001b[0m\u001b[0;34m)\u001b[0m\u001b[0;34m\u001b[0m\u001b[0;34m\u001b[0m\u001b[0m\n\u001b[0m\u001b[1;32m    178\u001b[0m \u001b[0;34m\u001b[0m\u001b[0m\n\u001b[1;32m    179\u001b[0m \u001b[0;32mdef\u001b[0m \u001b[0msubtract_images\u001b[0m\u001b[0;34m(\u001b[0m\u001b[0mimage_path_1\u001b[0m\u001b[0;34m,\u001b[0m \u001b[0mimage_path_2\u001b[0m\u001b[0;34m,\u001b[0m \u001b[0mwrite_path\u001b[0m\u001b[0;34m)\u001b[0m\u001b[0;34m:\u001b[0m\u001b[0;34m\u001b[0m\u001b[0;34m\u001b[0m\u001b[0m\n",
            "\u001b[0;32m/usr/lib/python3.7/shutil.py\u001b[0m in \u001b[0;36mmove\u001b[0;34m(src, dst, copy_function)\u001b[0m\n\u001b[1;32m    578\u001b[0m             \u001b[0mrmtree\u001b[0m\u001b[0;34m(\u001b[0m\u001b[0msrc\u001b[0m\u001b[0;34m)\u001b[0m\u001b[0;34m\u001b[0m\u001b[0;34m\u001b[0m\u001b[0m\n\u001b[1;32m    579\u001b[0m         \u001b[0;32melse\u001b[0m\u001b[0;34m:\u001b[0m\u001b[0;34m\u001b[0m\u001b[0;34m\u001b[0m\u001b[0m\n\u001b[0;32m--> 580\u001b[0;31m             \u001b[0mcopy_function\u001b[0m\u001b[0;34m(\u001b[0m\u001b[0msrc\u001b[0m\u001b[0;34m,\u001b[0m \u001b[0mreal_dst\u001b[0m\u001b[0;34m)\u001b[0m\u001b[0;34m\u001b[0m\u001b[0;34m\u001b[0m\u001b[0m\n\u001b[0m\u001b[1;32m    581\u001b[0m             \u001b[0mos\u001b[0m\u001b[0;34m.\u001b[0m\u001b[0munlink\u001b[0m\u001b[0;34m(\u001b[0m\u001b[0msrc\u001b[0m\u001b[0;34m)\u001b[0m\u001b[0;34m\u001b[0m\u001b[0;34m\u001b[0m\u001b[0m\n\u001b[1;32m    582\u001b[0m     \u001b[0;32mreturn\u001b[0m \u001b[0mreal_dst\u001b[0m\u001b[0;34m\u001b[0m\u001b[0;34m\u001b[0m\u001b[0m\n",
            "\u001b[0;32m/usr/lib/python3.7/shutil.py\u001b[0m in \u001b[0;36mcopy2\u001b[0;34m(src, dst, follow_symlinks)\u001b[0m\n\u001b[1;32m    264\u001b[0m     \u001b[0;32mif\u001b[0m \u001b[0mos\u001b[0m\u001b[0;34m.\u001b[0m\u001b[0mpath\u001b[0m\u001b[0;34m.\u001b[0m\u001b[0misdir\u001b[0m\u001b[0;34m(\u001b[0m\u001b[0mdst\u001b[0m\u001b[0;34m)\u001b[0m\u001b[0;34m:\u001b[0m\u001b[0;34m\u001b[0m\u001b[0;34m\u001b[0m\u001b[0m\n\u001b[1;32m    265\u001b[0m         \u001b[0mdst\u001b[0m \u001b[0;34m=\u001b[0m \u001b[0mos\u001b[0m\u001b[0;34m.\u001b[0m\u001b[0mpath\u001b[0m\u001b[0;34m.\u001b[0m\u001b[0mjoin\u001b[0m\u001b[0;34m(\u001b[0m\u001b[0mdst\u001b[0m\u001b[0;34m,\u001b[0m \u001b[0mos\u001b[0m\u001b[0;34m.\u001b[0m\u001b[0mpath\u001b[0m\u001b[0;34m.\u001b[0m\u001b[0mbasename\u001b[0m\u001b[0;34m(\u001b[0m\u001b[0msrc\u001b[0m\u001b[0;34m)\u001b[0m\u001b[0;34m)\u001b[0m\u001b[0;34m\u001b[0m\u001b[0;34m\u001b[0m\u001b[0m\n\u001b[0;32m--> 266\u001b[0;31m     \u001b[0mcopyfile\u001b[0m\u001b[0;34m(\u001b[0m\u001b[0msrc\u001b[0m\u001b[0;34m,\u001b[0m \u001b[0mdst\u001b[0m\u001b[0;34m,\u001b[0m \u001b[0mfollow_symlinks\u001b[0m\u001b[0;34m=\u001b[0m\u001b[0mfollow_symlinks\u001b[0m\u001b[0;34m)\u001b[0m\u001b[0;34m\u001b[0m\u001b[0;34m\u001b[0m\u001b[0m\n\u001b[0m\u001b[1;32m    267\u001b[0m     \u001b[0mcopystat\u001b[0m\u001b[0;34m(\u001b[0m\u001b[0msrc\u001b[0m\u001b[0;34m,\u001b[0m \u001b[0mdst\u001b[0m\u001b[0;34m,\u001b[0m \u001b[0mfollow_symlinks\u001b[0m\u001b[0;34m=\u001b[0m\u001b[0mfollow_symlinks\u001b[0m\u001b[0;34m)\u001b[0m\u001b[0;34m\u001b[0m\u001b[0;34m\u001b[0m\u001b[0m\n\u001b[1;32m    268\u001b[0m     \u001b[0;32mreturn\u001b[0m \u001b[0mdst\u001b[0m\u001b[0;34m\u001b[0m\u001b[0;34m\u001b[0m\u001b[0m\n",
            "\u001b[0;32m/usr/lib/python3.7/shutil.py\u001b[0m in \u001b[0;36mcopyfile\u001b[0;34m(src, dst, follow_symlinks)\u001b[0m\n\u001b[1;32m    118\u001b[0m         \u001b[0mos\u001b[0m\u001b[0;34m.\u001b[0m\u001b[0msymlink\u001b[0m\u001b[0;34m(\u001b[0m\u001b[0mos\u001b[0m\u001b[0;34m.\u001b[0m\u001b[0mreadlink\u001b[0m\u001b[0;34m(\u001b[0m\u001b[0msrc\u001b[0m\u001b[0;34m)\u001b[0m\u001b[0;34m,\u001b[0m \u001b[0mdst\u001b[0m\u001b[0;34m)\u001b[0m\u001b[0;34m\u001b[0m\u001b[0;34m\u001b[0m\u001b[0m\n\u001b[1;32m    119\u001b[0m     \u001b[0;32melse\u001b[0m\u001b[0;34m:\u001b[0m\u001b[0;34m\u001b[0m\u001b[0;34m\u001b[0m\u001b[0m\n\u001b[0;32m--> 120\u001b[0;31m         \u001b[0;32mwith\u001b[0m \u001b[0mopen\u001b[0m\u001b[0;34m(\u001b[0m\u001b[0msrc\u001b[0m\u001b[0;34m,\u001b[0m \u001b[0;34m'rb'\u001b[0m\u001b[0;34m)\u001b[0m \u001b[0;32mas\u001b[0m \u001b[0mfsrc\u001b[0m\u001b[0;34m:\u001b[0m\u001b[0;34m\u001b[0m\u001b[0;34m\u001b[0m\u001b[0m\n\u001b[0m\u001b[1;32m    121\u001b[0m             \u001b[0;32mwith\u001b[0m \u001b[0mopen\u001b[0m\u001b[0;34m(\u001b[0m\u001b[0mdst\u001b[0m\u001b[0;34m,\u001b[0m \u001b[0;34m'wb'\u001b[0m\u001b[0;34m)\u001b[0m \u001b[0;32mas\u001b[0m \u001b[0mfdst\u001b[0m\u001b[0;34m:\u001b[0m\u001b[0;34m\u001b[0m\u001b[0;34m\u001b[0m\u001b[0m\n\u001b[1;32m    122\u001b[0m                 \u001b[0mcopyfileobj\u001b[0m\u001b[0;34m(\u001b[0m\u001b[0mfsrc\u001b[0m\u001b[0;34m,\u001b[0m \u001b[0mfdst\u001b[0m\u001b[0;34m)\u001b[0m\u001b[0;34m\u001b[0m\u001b[0;34m\u001b[0m\u001b[0m\n",
            "\u001b[0;31mFileNotFoundError\u001b[0m: [Errno 2] No such file or directory: 'training_csvs/content/all_extracts/extract_1580.png'"
          ]
        }
      ],
      "source": [
        "path = \"training_csvs/\"\n",
        "path_to_extracts = \"training_csvs/content/all_extracts/\"\n",
        "\n",
        "for index, row in df_spur.iterrows():    \n",
        "      from_path = path_to_extracts + row[0]\n",
        "      to_path = path + \"spur/\" + row[0]     \n",
        "      move_files(**{\n",
        "          \"file_paths\" : [from_path],\n",
        "          \"target_directory\" : to_path\n",
        "      })\n",
        "    \n",
        "for index, row in df_short.iterrows():    \n",
        "    from_path = path_to_extracts + row[0]\n",
        "    to_path = path + \"short/\" + row[0]     \n",
        "    move_files(**{\n",
        "        \"file_paths\" : [from_path],\n",
        "        \"target_directory\" : to_path\n",
        "    })\n",
        "\n",
        "for index, row in df_spurious.iterrows():    \n",
        "    from_path = path_to_extracts + row[0]\n",
        "    to_path = path + \"spurious/\" + row[0]\n",
        "    move_files(**{\n",
        "        \"file_paths\" : [from_path],\n",
        "        \"target_directory\" : to_path\n",
        "    })\n",
        "\n",
        "for index, row in df_not_defect.iterrows():    \n",
        "    from_path = path_to_extracts + row[0]\n",
        "    to_path = path + \"/not_defect/\" + row[0]     \n",
        "    move_files(**{\n",
        "        \"file_paths\" : [from_path],\n",
        "        \"target_directory\" : to_path\n",
        "    })"
      ]
    },
    {
      "cell_type": "markdown",
      "metadata": {
        "id": "EWn2TU-a_YWn"
      },
      "source": [
        "### Remove any remaining PNG files (defect images) that were not labelled:"
      ]
    },
    {
      "cell_type": "code",
      "execution_count": 81,
      "metadata": {
        "id": "WkpLZCyTcivm"
      },
      "outputs": [],
      "source": [
        "directory(**{\n",
        "    \"choice\" : \"remove\",\n",
        "    \"directory_path\" : \"training_csvs/content\",\n",
        "    \"force\" : True\n",
        "})"
      ]
    },
    {
      "cell_type": "markdown",
      "metadata": {
        "id": "Z77yWF76YY6h"
      },
      "source": [
        "### Read in image data"
      ]
    },
    {
      "cell_type": "code",
      "execution_count": 82,
      "metadata": {
        "id": "QLhMnT8vWSit",
        "colab": {
          "base_uri": "https://localhost:8080/"
        },
        "outputId": "e3ebf351-7047-48c0-fe14-8b8f1adf02a9"
      },
      "outputs": [
        {
          "output_type": "stream",
          "name": "stderr",
          "text": [
            "/usr/local/lib/python3.7/dist-packages/fastai/vision/transform.py:247: UserWarning: torch.solve is deprecated in favor of torch.linalg.solveand will be removed in a future PyTorch release.\n",
            "torch.linalg.solve has its arguments reversed and does not return the LU factorization.\n",
            "To get the LU factorization see torch.lu, which can be used with torch.lu_solve or torch.lu_unpack.\n",
            "X = torch.solve(B, A).solution\n",
            "should be replaced with\n",
            "X = torch.linalg.solve(A, B) (Triggered internally at  ../aten/src/ATen/native/BatchLinearAlgebra.cpp:859.)\n",
            "  return _solve_func(B,A)[0][:,0]\n",
            "/usr/local/lib/python3.7/dist-packages/torch/utils/data/dataloader.py:490: UserWarning: This DataLoader will create 4 worker processes in total. Our suggested max number of worker in current system is 2, which is smaller than what this DataLoader is going to create. Please be aware that excessive worker creation might get DataLoader running slow or even freeze, lower the worker number to avoid potential slowness/freeze if necessary.\n",
            "  cpuset_checked))\n"
          ]
        }
      ],
      "source": [
        "np.random.seed(42)\n",
        "data = ImageDataBunch.from_folder(path, train='.', valid_pct=0.2, ds_tfms=get_transforms(), size=224, num_workers=4, bs=10).normalize(imagenet_stats)"
      ]
    },
    {
      "cell_type": "markdown",
      "metadata": {
        "id": "Uz7QLQ-6YuOW"
      },
      "source": [
        "### Inspect Images to Confirm Read Properly"
      ]
    },
    {
      "cell_type": "code",
      "execution_count": 83,
      "metadata": {
        "id": "tiWDeTlIYcls",
        "outputId": "8a416971-3ba2-4c2e-eda6-25c2079262a0",
        "colab": {
          "base_uri": "https://localhost:8080/",
          "height": 585
        }
      },
      "outputs": [
        {
          "output_type": "display_data",
          "data": {
            "text/plain": [
              "<Figure size 504x576 with 16 Axes>"
            ],
            "image/png": "[encoded data removed]"
          },
          "metadata": {
            "needs_background": "dark"
          }
        }
      ],
      "source": [
        "data.show_batch(rows=4, figsize=(7, 8))"
      ]
    },
    {
      "cell_type": "markdown",
      "metadata": {
        "id": "F0SSe0z9ZBqg"
      },
      "source": [
        "### Train Model"
      ]
    },
    {
      "cell_type": "code",
      "execution_count": 85,
      "metadata": {
        "id": "Hd7VRLARYxS_",
        "colab": {
          "base_uri": "https://localhost:8080/",
          "height": 121,
          "referenced_widgets": [
            "a27a07389c304687b5bcc13924bd1dd5",
            "5518dfbd3be64da7b88043e32d23bfd2",
            "2bd4797f7c884caea98e190a53c2c67c",
            "ddd8c022ea984283b0bcf0f6e622a8b5",
            "18c3ad48456c4d178acf7f8e121ebaf6",
            "80b0f1cc5841446cb15044fc394b991c",
            "8df3f8d44d27408799d68ff908953d37",
            "de10fb1397954e76bcd3c33c77bbf49d",
            "383ca16d7c394a6cb8572100b672e4fe",
            "ef57b5c89be04a5ab11e2c6c1c998a66",
            "85b0e3e523284398823086f40d2b3725"
          ]
        },
        "outputId": "93e32cb4-0df9-4f67-bb4f-0f1e9333bbaa"
      },
      "outputs": [
        {
          "output_type": "stream",
          "name": "stderr",
          "text": [
            "/usr/local/lib/python3.7/dist-packages/fastai/vision/learner.py:109: UserWarning: `create_cnn` is deprecated and is now named `cnn_learner`.\n",
            "  warn(\"`create_cnn` is deprecated and is now named `cnn_learner`.\")\n",
            "Downloading: \"https://download.pytorch.org/models/resnet34-b627a593.pth\" to /root/.cache/torch/hub/checkpoints/resnet34-b627a593.pth\n"
          ]
        },
        {
          "output_type": "display_data",
          "data": {
            "text/plain": [
              "  0%|          | 0.00/83.3M [00:00<?, ?B/s]"
            ],
            "application/vnd.jupyter.widget-view+json": {
              "version_major": 2,
              "version_minor": 0,
              "model_id": "a27a07389c304687b5bcc13924bd1dd5"
            }
          },
          "metadata": {}
        }
      ],
      "source": [
        "from fastai.metrics import error_rate # 1 - accuracy\n",
        "learn = create_cnn(data, models.resnet34, metrics=error_rate)"
      ]
    },
    {
      "cell_type": "markdown",
      "metadata": {
        "id": "oKuw5nRqZK8B"
      },
      "source": [
        "### Use fit_one_cycle to change the learning rate over time (use GPU)"
      ]
    },
    {
      "cell_type": "code",
      "execution_count": null,
      "metadata": {
        "id": "ekqcFJvrZD9d",
        "outputId": "8a5ce5f8-dab5-4d47-8103-ef4ea3125c38",
        "colab": {
          "base_uri": "https://localhost:8080/",
          "height": 275
        }
      },
      "outputs": [
        {
          "output_type": "display_data",
          "data": {
            "text/plain": [
              "<IPython.core.display.HTML object>"
            ],
            "text/html": [
              "\n",
              "<style>\n",
              "    /* Turns off some styling */\n",
              "    progress {\n",
              "        /* gets rid of default border in Firefox and Opera. */\n",
              "        border: none;\n",
              "        /* Needs to be in here for Safari polyfill so background images work as expected. */\n",
              "        background-size: auto;\n",
              "    }\n",
              "    .progress-bar-interrupted, .progress-bar-interrupted::-webkit-progress-bar {\n",
              "        background: #F44336;\n",
              "    }\n",
              "</style>\n"
            ]
          },
          "metadata": {}
        },
        {
          "output_type": "display_data",
          "data": {
            "text/plain": [
              "<IPython.core.display.HTML object>"
            ],
            "text/html": [
              "\n",
              "    <div>\n",
              "      <progress value='4' class='' max='10' style='width:300px; height:20px; vertical-align: middle;'></progress>\n",
              "      40.00% [4/10 13:47<20:41]\n",
              "    </div>\n",
              "    \n",
              "<table border=\"1\" class=\"dataframe\">\n",
              "  <thead>\n",
              "    <tr style=\"text-align: left;\">\n",
              "      <th>epoch</th>\n",
              "      <th>train_loss</th>\n",
              "      <th>valid_loss</th>\n",
              "      <th>error_rate</th>\n",
              "      <th>time</th>\n",
              "    </tr>\n",
              "  </thead>\n",
              "  <tbody>\n",
              "    <tr>\n",
              "      <td>0</td>\n",
              "      <td>2.309126</td>\n",
              "      <td>1.787686</td>\n",
              "      <td>0.681818</td>\n",
              "      <td>03:31</td>\n",
              "    </tr>\n",
              "    <tr>\n",
              "      <td>1</td>\n",
              "      <td>2.126094</td>\n",
              "      <td>1.880053</td>\n",
              "      <td>0.610390</td>\n",
              "      <td>03:25</td>\n",
              "    </tr>\n",
              "    <tr>\n",
              "      <td>2</td>\n",
              "      <td>1.986031</td>\n",
              "      <td>1.935516</td>\n",
              "      <td>0.538961</td>\n",
              "      <td>03:25</td>\n",
              "    </tr>\n",
              "    <tr>\n",
              "      <td>3</td>\n",
              "      <td>1.805330</td>\n",
              "      <td>1.673372</td>\n",
              "      <td>0.545455</td>\n",
              "      <td>03:24</td>\n",
              "    </tr>\n",
              "  </tbody>\n",
              "</table><p>\n",
              "\n",
              "    <div>\n",
              "      <progress value='31' class='' max='62' style='width:300px; height:20px; vertical-align: middle;'></progress>\n",
              "      50.00% [31/62 01:32<01:32 1.6031]\n",
              "    </div>\n",
              "    "
            ]
          },
          "metadata": {}
        },
        {
          "output_type": "stream",
          "name": "stderr",
          "text": [
            "/usr/local/lib/python3.7/dist-packages/torch/utils/data/dataloader.py:490: UserWarning: This DataLoader will create 4 worker processes in total. Our suggested max number of worker in current system is 2, which is smaller than what this DataLoader is going to create. Please be aware that excessive worker creation might get DataLoader running slow or even freeze, lower the worker number to avoid potential slowness/freeze if necessary.\n",
            "  cpuset_checked))\n"
          ]
        }
      ],
      "source": [
        "defaults.device = torch.device('cuda')\n",
        "learn.fit_one_cycle(10)"
      ]
    },
    {
      "cell_type": "markdown",
      "metadata": {
        "id": "u5ldWYDZh6wA"
      },
      "source": [
        "### Find better learning rates using lr_find, and use recorder.plot to create a plot that relates the learning rate with the loss."
      ]
    },
    {
      "cell_type": "code",
      "execution_count": null,
      "metadata": {
        "id": "Cvytmtx7h7Qz",
        "outputId": "8b7e9a0a-056c-446a-b88e-0f4ef73e6eb6",
        "colab": {
          "base_uri": "https://localhost:8080/",
          "height": 112
        }
      },
      "outputs": [
        {
          "data": {
            "text/html": [
              "\n",
              "    <div>\n",
              "        <style>\n",
              "            /* Turns off some styling */\n",
              "            progress {\n",
              "                /* gets rid of default border in Firefox and Opera. */\n",
              "                border: none;\n",
              "                /* Needs to be in here for Safari polyfill so background images work as expected. */\n",
              "                background-size: auto;\n",
              "            }\n",
              "            .progress-bar-interrupted, .progress-bar-interrupted::-webkit-progress-bar {\n",
              "                background: #F44336;\n",
              "            }\n",
              "        </style>\n",
              "      <progress value='0' class='' max='1', style='width:300px; height:20px; vertical-align: middle;'></progress>\n",
              "      0.00% [0/1 00:00<00:00]\n",
              "    </div>\n",
              "    \n",
              "<table border=\"1\" class=\"dataframe\">\n",
              "  <thead>\n",
              "    <tr style=\"text-align: left;\">\n",
              "      <th>epoch</th>\n",
              "      <th>train_loss</th>\n",
              "      <th>valid_loss</th>\n",
              "      <th>error_rate</th>\n",
              "      <th>time</th>\n",
              "    </tr>\n",
              "  </thead>\n",
              "  <tbody>\n",
              "  </tbody>\n",
              "</table><p>\n",
              "\n",
              "    <div>\n",
              "        <style>\n",
              "            /* Turns off some styling */\n",
              "            progress {\n",
              "                /* gets rid of default border in Firefox and Opera. */\n",
              "                border: none;\n",
              "                /* Needs to be in here for Safari polyfill so background images work as expected. */\n",
              "                background-size: auto;\n",
              "            }\n",
              "            .progress-bar-interrupted, .progress-bar-interrupted::-webkit-progress-bar {\n",
              "                background: #F44336;\n",
              "            }\n",
              "        </style>\n",
              "      <progress value='70' class='' max='111', style='width:300px; height:20px; vertical-align: middle;'></progress>\n",
              "      63.06% [70/111 05:19<03:06 0.8192]\n",
              "    </div>\n",
              "    "
            ],
            "text/plain": [
              "<IPython.core.display.HTML object>"
            ]
          },
          "metadata": {
            "tags": []
          },
          "output_type": "execute_result"
        },
        {
          "name": "stdout",
          "output_type": "stream",
          "text": [
            "LR Finder is complete, type {learner_name}.recorder.plot() to see the graph.\n"
          ]
        }
      ],
      "source": [
        "learn.unfreeze()\n",
        "learn.lr_find()"
      ]
    },
    {
      "cell_type": "code",
      "execution_count": null,
      "metadata": {
        "id": "nfSO8NRwZJuy",
        "outputId": "e40e5e7a-b87d-41db-8577-8075a6c65a4c",
        "colab": {
          "base_uri": "https://localhost:8080/",
          "height": 279
        }
      },
      "outputs": [
        {
          "data": {
            "image/png": "[encoded data removed]",
            "text/plain": [
              "<Figure size 1008x288 with 1 Axes>"
            ]
          },
          "metadata": {
            "tags": []
          },
          "output_type": "display_data"
        }
      ],
      "source": [
        "learn.recorder.plot()"
      ]
    },
    {
      "cell_type": "markdown",
      "metadata": {
        "id": "4nKRkMwqiNii"
      },
      "source": [
        "### Train the model using differential learning rates by passing the max_lr argument to the fit_one_cycle method."
      ]
    },
    {
      "cell_type": "code",
      "execution_count": null,
      "metadata": {
        "id": "VN4CcWITiOuo",
        "outputId": "fa7e2b5c-96bf-41b8-85e1-f6c7bfb1a4b9",
        "colab": {
          "base_uri": "https://localhost:8080/",
          "height": 173
        }
      },
      "outputs": [
        {
          "data": {
            "text/html": [
              "<table border=\"1\" class=\"dataframe\">\n",
              "  <thead>\n",
              "    <tr style=\"text-align: left;\">\n",
              "      <th>epoch</th>\n",
              "      <th>train_loss</th>\n",
              "      <th>valid_loss</th>\n",
              "      <th>error_rate</th>\n",
              "      <th>time</th>\n",
              "    </tr>\n",
              "  </thead>\n",
              "  <tbody>\n",
              "    <tr>\n",
              "      <td>0</td>\n",
              "      <td>0.184295</td>\n",
              "      <td>0.126775</td>\n",
              "      <td>0.039427</td>\n",
              "      <td>09:12</td>\n",
              "    </tr>\n",
              "    <tr>\n",
              "      <td>1</td>\n",
              "      <td>0.276375</td>\n",
              "      <td>0.147388</td>\n",
              "      <td>0.046595</td>\n",
              "      <td>09:12</td>\n",
              "    </tr>\n",
              "    <tr>\n",
              "      <td>2</td>\n",
              "      <td>0.160508</td>\n",
              "      <td>0.054374</td>\n",
              "      <td>0.010753</td>\n",
              "      <td>09:10</td>\n",
              "    </tr>\n",
              "    <tr>\n",
              "      <td>3</td>\n",
              "      <td>0.087525</td>\n",
              "      <td>0.052762</td>\n",
              "      <td>0.014337</td>\n",
              "      <td>08:51</td>\n",
              "    </tr>\n",
              "  </tbody>\n",
              "</table>"
            ],
            "text/plain": [
              "<IPython.core.display.HTML object>"
            ]
          },
          "metadata": {
            "tags": []
          },
          "output_type": "execute_result"
        }
      ],
      "source": [
        "learn.fit_one_cycle(4, max_lr=slice(3e-5, 3e-4))"
      ]
    },
    {
      "cell_type": "markdown",
      "metadata": {
        "id": "dlSjdH7AqhrL"
      },
      "source": [
        "### SAVE the model for inference"
      ]
    },
    {
      "cell_type": "code",
      "execution_count": null,
      "metadata": {
        "id": "RwRHNd6pkM5j"
      },
      "outputs": [],
      "source": [
        "learn.save('defect_classifier')"
      ]
    },
    {
      "cell_type": "markdown",
      "metadata": {
        "id": "Cr4JeHqfq0vs"
      },
      "source": [
        "### Export Model"
      ]
    },
    {
      "cell_type": "code",
      "execution_count": null,
      "metadata": {
        "id": "e08nDbGIqk7M"
      },
      "outputs": [],
      "source": [
        "learn.load('defect_classifier')\n",
        "learn.export('defect_classifier.pkl')"
      ]
    },
    {
      "cell_type": "markdown",
      "metadata": {
        "id": "4ho3E_gfrSsM"
      },
      "source": [
        "### Examine Confusion Matrix"
      ]
    },
    {
      "cell_type": "code",
      "execution_count": null,
      "metadata": {
        "id": "XTxLPmN_q2Zv",
        "outputId": "03119e79-335c-49f1-92ec-278fc5bb9f4a",
        "colab": {
          "base_uri": "https://localhost:8080/",
          "height": 455
        }
      },
      "outputs": [
        {
          "data": {
            "text/html": [
              ""
            ],
            "text/plain": [
              "<IPython.core.display.HTML object>"
            ]
          },
          "metadata": {
            "tags": []
          },
          "output_type": "execute_result"
        },
        {
          "data": {
            "image/png": "[encoded data removed]",
            "text/plain": [
              "<Figure size 432x432 with 1 Axes>"
            ]
          },
          "metadata": {
            "tags": []
          },
          "output_type": "display_data"
        }
      ],
      "source": [
        "interp = ClassificationInterpretation.from_learner(learn)\n",
        "interp.plot_confusion_matrix(figsize=(6,6))"
      ]
    },
    {
      "cell_type": "markdown",
      "metadata": {
        "id": "qq1x1b0P_xEJ"
      },
      "source": [
        "### Create JSON file with new boards filenames"
      ]
    },
    {
      "cell_type": "code",
      "execution_count": null,
      "metadata": {
        "id": "n4wWRPCSAEkZ"
      },
      "outputs": [],
      "source": [
        "test_temps = {}\n",
        "file_names = os.listdir('hold_out')\n",
        "\n",
        "for index, file in enumerate(file_names):\n",
        "  if \"test\" in file:\n",
        "      test_temps[file_names[index]] = os.path.getsize('hold_out/' + file)"
      ]
    },
    {
      "cell_type": "code",
      "execution_count": null,
      "metadata": {
        "id": "wxyfHLZtAYJq"
      },
      "outputs": [],
      "source": [
        "with open('test_temps.json', 'w') as outfile:\n",
        "    json.dump(test_temps, outfile)"
      ]
    },
    {
      "cell_type": "markdown",
      "metadata": {
        "id": "w9TdSYUks73m"
      },
      "source": [
        "### Download hold out images to use with PCB Defect Classifier"
      ]
    },
    {
      "cell_type": "code",
      "execution_count": null,
      "metadata": {
        "id": "aEuWa32Qs7FA"
      },
      "outputs": [],
      "source": [
        "# remove any files that are not JPG\n",
        "!find hold_out -type f ! -name '*.jpg' -delete\n",
        "\n",
        "zip_files_in_directory(**{\n",
        "    \"directory\" : \"hold_out/\",\n",
        "    \"zip_filename\" : \"hold_out.zip\"\n",
        "})"
      ]
    }
  ],
  "metadata": {
    "colab": {
      "name": "PCB Defect Extraction and Classification.ipynb",
      "provenance": [],
      "collapsed_sections": []
    },
    "kernelspec": {
      "name": "python3",
      "display_name": "Python 3"
    },
    "accelerator": "TPU",
    "widgets": {
      "application/vnd.jupyter.widget-state+json": {
        "a27a07389c304687b5bcc13924bd1dd5": {
          "model_module": "@jupyter-widgets/controls",
          "model_name": "HBoxModel",
          "model_module_version": "1.5.0",
          "state": {
            "_dom_classes": [],
            "_model_module": "@jupyter-widgets/controls",
            "_model_module_version": "1.5.0",
            "_model_name": "HBoxModel",
            "_view_count": null,
            "_view_module": "@jupyter-widgets/controls",
            "_view_module_version": "1.5.0",
            "_view_name": "HBoxView",
            "box_style": "",
            "children": [
              "IPY_MODEL_5518dfbd3be64da7b88043e32d23bfd2",
              "IPY_MODEL_2bd4797f7c884caea98e190a53c2c67c",
              "IPY_MODEL_ddd8c022ea984283b0bcf0f6e622a8b5"
            ],
            "layout": "IPY_MODEL_18c3ad48456c4d178acf7f8e121ebaf6"
          }
        },
        "5518dfbd3be64da7b88043e32d23bfd2": {
          "model_module": "@jupyter-widgets/controls",
          "model_name": "HTMLModel",
          "model_module_version": "1.5.0",
          "state": {
            "_dom_classes": [],
            "_model_module": "@jupyter-widgets/controls",
            "_model_module_version": "1.5.0",
            "_model_name": "HTMLModel",
            "_view_count": null,
            "_view_module": "@jupyter-widgets/controls",
            "_view_module_version": "1.5.0",
            "_view_name": "HTMLView",
            "description": "",
            "description_tooltip": null,
            "layout": "IPY_MODEL_80b0f1cc5841446cb15044fc394b991c",
            "placeholder": "​",
            "style": "IPY_MODEL_8df3f8d44d27408799d68ff908953d37",
            "value": "100%"
          }
        },
        "2bd4797f7c884caea98e190a53c2c67c": {
          "model_module": "@jupyter-widgets/controls",
          "model_name": "FloatProgressModel",
          "model_module_version": "1.5.0",
          "state": {
            "_dom_classes": [],
            "_model_module": "@jupyter-widgets/controls",
            "_model_module_version": "1.5.0",
            "_model_name": "FloatProgressModel",
            "_view_count": null,
            "_view_module": "@jupyter-widgets/controls",
            "_view_module_version": "1.5.0",
            "_view_name": "ProgressView",
            "bar_style": "success",
            "description": "",
            "description_tooltip": null,
            "layout": "IPY_MODEL_de10fb1397954e76bcd3c33c77bbf49d",
            "max": 87319819,
            "min": 0,
            "orientation": "horizontal",
            "style": "IPY_MODEL_383ca16d7c394a6cb8572100b672e4fe",
            "value": 87319819
          }
        },
        "ddd8c022ea984283b0bcf0f6e622a8b5": {
          "model_module": "@jupyter-widgets/controls",
          "model_name": "HTMLModel",
          "model_module_version": "1.5.0",
          "state": {
            "_dom_classes": [],
            "_model_module": "@jupyter-widgets/controls",
            "_model_module_version": "1.5.0",
            "_model_name": "HTMLModel",
            "_view_count": null,
            "_view_module": "@jupyter-widgets/controls",
            "_view_module_version": "1.5.0",
            "_view_name": "HTMLView",
            "description": "",
            "description_tooltip": null,
            "layout": "IPY_MODEL_ef57b5c89be04a5ab11e2c6c1c998a66",
            "placeholder": "​",
            "style": "IPY_MODEL_85b0e3e523284398823086f40d2b3725",
            "value": " 83.3M/83.3M [00:00&lt;00:00, 158MB/s]"
          }
        },
        "18c3ad48456c4d178acf7f8e121ebaf6": {
          "model_module": "@jupyter-widgets/base",
          "model_name": "LayoutModel",
          "model_module_version": "1.2.0",
          "state": {
            "_model_module": "@jupyter-widgets/base",
            "_model_module_version": "1.2.0",
            "_model_name": "LayoutModel",
            "_view_count": null,
            "_view_module": "@jupyter-widgets/base",
            "_view_module_version": "1.2.0",
            "_view_name": "LayoutView",
            "align_content": null,
            "align_items": null,
            "align_self": null,
            "border": null,
            "bottom": null,
            "display": null,
            "flex": null,
            "flex_flow": null,
            "grid_area": null,
            "grid_auto_columns": null,
            "grid_auto_flow": null,
            "grid_auto_rows": null,
            "grid_column": null,
            "grid_gap": null,
            "grid_row": null,
            "grid_template_areas": null,
            "grid_template_columns": null,
            "grid_template_rows": null,
            "height": null,
            "justify_content": null,
            "justify_items": null,
            "left": null,
            "margin": null,
            "max_height": null,
            "max_width": null,
            "min_height": null,
            "min_width": null,
            "object_fit": null,
            "object_position": null,
            "order": null,
            "overflow": null,
            "overflow_x": null,
            "overflow_y": null,
            "padding": null,
            "right": null,
            "top": null,
            "visibility": null,
            "width": null
          }
        },
        "80b0f1cc5841446cb15044fc394b991c": {
          "model_module": "@jupyter-widgets/base",
          "model_name": "LayoutModel",
          "model_module_version": "1.2.0",
          "state": {
            "_model_module": "@jupyter-widgets/base",
            "_model_module_version": "1.2.0",
            "_model_name": "LayoutModel",
            "_view_count": null,
            "_view_module": "@jupyter-widgets/base",
            "_view_module_version": "1.2.0",
            "_view_name": "LayoutView",
            "align_content": null,
            "align_items": null,
            "align_self": null,
            "border": null,
            "bottom": null,
            "display": null,
            "flex": null,
            "flex_flow": null,
            "grid_area": null,
            "grid_auto_columns": null,
            "grid_auto_flow": null,
            "grid_auto_rows": null,
            "grid_column": null,
            "grid_gap": null,
            "grid_row": null,
            "grid_template_areas": null,
            "grid_template_columns": null,
            "grid_template_rows": null,
            "height": null,
            "justify_content": null,
            "justify_items": null,
            "left": null,
            "margin": null,
            "max_height": null,
            "max_width": null,
            "min_height": null,
            "min_width": null,
            "object_fit": null,
            "object_position": null,
            "order": null,
            "overflow": null,
            "overflow_x": null,
            "overflow_y": null,
            "padding": null,
            "right": null,
            "top": null,
            "visibility": null,
            "width": null
          }
        },
        "8df3f8d44d27408799d68ff908953d37": {
          "model_module": "@jupyter-widgets/controls",
          "model_name": "DescriptionStyleModel",
          "model_module_version": "1.5.0",
          "state": {
            "_model_module": "@jupyter-widgets/controls",
            "_model_module_version": "1.5.0",
            "_model_name": "DescriptionStyleModel",
            "_view_count": null,
            "_view_module": "@jupyter-widgets/base",
            "_view_module_version": "1.2.0",
            "_view_name": "StyleView",
            "description_width": ""
          }
        },
        "de10fb1397954e76bcd3c33c77bbf49d": {
          "model_module": "@jupyter-widgets/base",
          "model_name": "LayoutModel",
          "model_module_version": "1.2.0",
          "state": {
            "_model_module": "@jupyter-widgets/base",
            "_model_module_version": "1.2.0",
            "_model_name": "LayoutModel",
            "_view_count": null,
            "_view_module": "@jupyter-widgets/base",
            "_view_module_version": "1.2.0",
            "_view_name": "LayoutView",
            "align_content": null,
            "align_items": null,
            "align_self": null,
            "border": null,
            "bottom": null,
            "display": null,
            "flex": null,
            "flex_flow": null,
            "grid_area": null,
            "grid_auto_columns": null,
            "grid_auto_flow": null,
            "grid_auto_rows": null,
            "grid_column": null,
            "grid_gap": null,
            "grid_row": null,
            "grid_template_areas": null,
            "grid_template_columns": null,
            "grid_template_rows": null,
            "height": null,
            "justify_content": null,
            "justify_items": null,
            "left": null,
            "margin": null,
            "max_height": null,
            "max_width": null,
            "min_height": null,
            "min_width": null,
            "object_fit": null,
            "object_position": null,
            "order": null,
            "overflow": null,
            "overflow_x": null,
            "overflow_y": null,
            "padding": null,
            "right": null,
            "top": null,
            "visibility": null,
            "width": null
          }
        },
        "383ca16d7c394a6cb8572100b672e4fe": {
          "model_module": "@jupyter-widgets/controls",
          "model_name": "ProgressStyleModel",
          "model_module_version": "1.5.0",
          "state": {
            "_model_module": "@jupyter-widgets/controls",
            "_model_module_version": "1.5.0",
            "_model_name": "ProgressStyleModel",
            "_view_count": null,
            "_view_module": "@jupyter-widgets/base",
            "_view_module_version": "1.2.0",
            "_view_name": "StyleView",
            "bar_color": null,
            "description_width": ""
          }
        },
        "ef57b5c89be04a5ab11e2c6c1c998a66": {
          "model_module": "@jupyter-widgets/base",
          "model_name": "LayoutModel",
          "model_module_version": "1.2.0",
          "state": {
            "_model_module": "@jupyter-widgets/base",
            "_model_module_version": "1.2.0",
            "_model_name": "LayoutModel",
            "_view_count": null,
            "_view_module": "@jupyter-widgets/base",
            "_view_module_version": "1.2.0",
            "_view_name": "LayoutView",
            "align_content": null,
            "align_items": null,
            "align_self": null,
            "border": null,
            "bottom": null,
            "display": null,
            "flex": null,
            "flex_flow": null,
            "grid_area": null,
            "grid_auto_columns": null,
            "grid_auto_flow": null,
            "grid_auto_rows": null,
            "grid_column": null,
            "grid_gap": null,
            "grid_row": null,
            "grid_template_areas": null,
            "grid_template_columns": null,
            "grid_template_rows": null,
            "height": null,
            "justify_content": null,
            "justify_items": null,
            "left": null,
            "margin": null,
            "max_height": null,
            "max_width": null,
            "min_height": null,
            "min_width": null,
            "object_fit": null,
            "object_position": null,
            "order": null,
            "overflow": null,
            "overflow_x": null,
            "overflow_y": null,
            "padding": null,
            "right": null,
            "top": null,
            "visibility": null,
            "width": null
          }
        },
        "85b0e3e523284398823086f40d2b3725": {
          "model_module": "@jupyter-widgets/controls",
          "model_name": "DescriptionStyleModel",
          "model_module_version": "1.5.0",
          "state": {
            "_model_module": "@jupyter-widgets/controls",
            "_model_module_version": "1.5.0",
            "_model_name": "DescriptionStyleModel",
            "_view_count": null,
            "_view_module": "@jupyter-widgets/base",
            "_view_module_version": "1.2.0",
            "_view_name": "StyleView",
            "description_width": ""
          }
        }
      }
    }
  },
  "nbformat": 4,
  "nbformat_minor": 0
}